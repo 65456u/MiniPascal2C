{
 "cells": [
  {
   "cell_type": "code",
   "id": "initial_id",
   "metadata": {
    "collapsed": true,
    "ExecuteTime": {
     "end_time": "2024-05-05T14:39:00.302333Z",
     "start_time": "2024-05-05T14:39:00.269374Z"
    }
   },
   "source": [
    "import lark"
   ],
   "outputs": [],
   "execution_count": 1
  },
  {
   "cell_type": "code",
   "id": "0c020768",
   "metadata": {
    "ExecuteTime": {
     "end_time": "2024-05-05T14:39:00.308191Z",
     "start_time": "2024-05-05T14:39:00.303345Z"
    }
   },
   "source": [
    "type_map = {\"integer\": \"int\", \"real\": \"float\", \"boolean\": \"bool\", \"char\": \"char\"}\n",
    "relop_map = {\"=\": \"==\", \"<>\": \"!=\", \"<\": \"<\", \"<=\": \"<=\", \">\": \">\", \">=\": \">=\"}\n",
    "addop_map = {\"+\": \"+\", \"-\": \"-\", \"or\": \"||\"}\n",
    "mulop_map = {\"*\": \"*\", \"/\": \"/\", \"div\": \"/\", \"mod\": \"%\", \"and\": \"&&\"}\n",
    "assignop_map = {\":=\": \"=\"}\n",
    "uminus_map = {\"-\": \"-\"}"
   ],
   "outputs": [],
   "execution_count": 2
  },
  {
   "cell_type": "code",
   "id": "b0e4cfb9daa6d2f6",
   "metadata": {
    "ExecuteTime": {
     "end_time": "2024-05-05T14:39:00.328831Z",
     "start_time": "2024-05-05T14:39:00.310923Z"
    }
   },
   "source": [
    "test_rule = r\"\"\"\n",
    "id                     : IDENTIFIER_TOKEN\n",
    "IDENTIFIER_TOKEN : /[a-zA-Z_][a-zA-Z0-9_]*/\n",
    "\"\"\"\n",
    "type_map = {\n",
    "    \"integer\": \"int\",\n",
    "    \"real\": \"float\",\n",
    "    \"boolean\": \"bool\",\n",
    "    \"char\": \"char\"\n",
    "}\n",
    "parser = lark.Lark(test_rule, start=\"id\")\n",
    "test_str = \"hello\"\n",
    "tree = parser.parse(test_str)"
   ],
   "outputs": [],
   "execution_count": 3
  },
  {
   "cell_type": "code",
   "id": "c1b93497c70bfa12",
   "metadata": {
    "ExecuteTime": {
     "end_time": "2024-05-05T14:39:00.341188Z",
     "start_time": "2024-05-05T14:39:00.338102Z"
    }
   },
   "source": [
    "def visit_id(self, node):\n",
    "    return [node.children[0].value]"
   ],
   "outputs": [],
   "execution_count": 4
  },
  {
   "cell_type": "code",
   "id": "3d41437c",
   "metadata": {
    "ExecuteTime": {
     "end_time": "2024-05-05T14:39:00.398840Z",
     "start_time": "2024-05-05T14:39:00.394915Z"
    }
   },
   "source": [
    "def visit_num(node):\n",
    "    tokens = []\n",
    "    tokens.append(node.children[0].value)\n",
    "    return tokens"
   ],
   "outputs": [],
   "execution_count": 5
  },
  {
   "cell_type": "code",
   "id": "e8cec3e7",
   "metadata": {
    "ExecuteTime": {
     "end_time": "2024-05-05T14:39:00.467893Z",
     "start_time": "2024-05-05T14:39:00.431693Z"
    }
   },
   "source": [
    "test_code = \"214.4\"\n",
    "with open(\"mp2c/MiniPascal.lark\") as f:\n",
    "    grammar = f.read()\n",
    "parser = lark.Lark(grammar, start=\"num\")"
   ],
   "outputs": [],
   "execution_count": 6
  },
  {
   "cell_type": "code",
   "id": "f60ffcb9",
   "metadata": {
    "ExecuteTime": {
     "end_time": "2024-05-05T14:39:00.478185Z",
     "start_time": "2024-05-05T14:39:00.468902Z"
    }
   },
   "source": [
    "parser.parse(test_code)\n",
    "\n",
    "\n",
    "def visit_optional_fraction(node):\n",
    "    return node.children[0].value\n",
    "\n",
    "\n",
    "def visit_num(node):\n",
    "    tokens = []\n",
    "    for child in node.children:\n",
    "        # check if the child is a token\n",
    "        if isinstance(child, lark.lexer.Token):\n",
    "            tokens.append(child.value)\n",
    "        elif child.data == \"optional_fraction\":\n",
    "            optional_fraction_part = visit_optional_fraction(child)\n",
    "            tokens[-1] += \".\"\n",
    "            tokens[-1] += optional_fraction_part\n",
    "\n",
    "    return tokens\n",
    "\n",
    "\n",
    "visit_num(parser.parse(test_code))"
   ],
   "outputs": [
    {
     "data": {
      "text/plain": [
       "['214.4']"
      ]
     },
     "execution_count": 7,
     "metadata": {},
     "output_type": "execute_result"
    }
   ],
   "execution_count": 7
  },
  {
   "cell_type": "code",
   "id": "a6668761",
   "metadata": {
    "ExecuteTime": {
     "end_time": "2024-05-05T14:39:00.552430Z",
     "start_time": "2024-05-05T14:39:00.513558Z"
    }
   },
   "source": [
    "def visit_period(node):\n",
    "    periods = []\n",
    "    current_period = []\n",
    "    for children in node.children:\n",
    "        if isinstance(children, lark.lexer.Token):\n",
    "            current_period.append(int(children.value))\n",
    "        elif children.data == \"period\":\n",
    "            current_period = visit_period(children)\n",
    "            periods.append(current_period)\n",
    "            current_period = []\n",
    "    periods.append(current_period)\n",
    "    return periods\n",
    "\n",
    "\n",
    "parser = lark.Lark(grammar, start=\"period\")\n",
    "test_code = \"1..2,4..5\"\n",
    "visit_period(parser.parse(test_code))"
   ],
   "outputs": [
    {
     "data": {
      "text/plain": [
       "[[[1, 2]], [4, 5]]"
      ]
     },
     "execution_count": 8,
     "metadata": {},
     "output_type": "execute_result"
    }
   ],
   "execution_count": 8
  },
  {
   "cell_type": "code",
   "id": "06f36f2e",
   "metadata": {
    "ExecuteTime": {
     "end_time": "2024-05-05T14:39:00.600354Z",
     "start_time": "2024-05-05T14:39:00.564279Z"
    }
   },
   "source": [
    "def visit_basic_type(node):\n",
    "    return node.children[0].value\n",
    "\n",
    "\n",
    "parser = lark.Lark(grammar, start=\"basic_type\")\n",
    "test_code = \"integer\"\n",
    "visit_basic_type(parser.parse(test_code))"
   ],
   "outputs": [
    {
     "data": {
      "text/plain": [
       "'integer'"
      ]
     },
     "execution_count": 9,
     "metadata": {},
     "output_type": "execute_result"
    }
   ],
   "execution_count": 9
  },
  {
   "cell_type": "code",
   "id": "6fde851a",
   "metadata": {
    "ExecuteTime": {
     "end_time": "2024-05-05T14:39:00.656694Z",
     "start_time": "2024-05-05T14:39:00.615880Z"
    }
   },
   "source": [
    "def visit_id(node):\n",
    "    return node.children[0].value\n",
    "\n",
    "\n",
    "def visit_idlist(node):\n",
    "    ids = []\n",
    "    for child in node.children:\n",
    "        if child.data == \"id\":\n",
    "            ids.append(visit_id(child))\n",
    "        elif child.data == \"idlist\":\n",
    "            ids.extend(visit_idlist(child))\n",
    "    return ids\n",
    "\n",
    "\n",
    "parser = lark.Lark(grammar, start=\"idlist\")\n",
    "test_code = \"a,b,c\"\n",
    "visit_idlist(parser.parse(test_code))"
   ],
   "outputs": [
    {
     "data": {
      "text/plain": [
       "['a', 'b', 'c']"
      ]
     },
     "execution_count": 10,
     "metadata": {},
     "output_type": "execute_result"
    }
   ],
   "execution_count": 10
  },
  {
   "cell_type": "code",
   "id": "d06aaae5",
   "metadata": {
    "ExecuteTime": {
     "end_time": "2024-05-05T14:39:00.722594Z",
     "start_time": "2024-05-05T14:39:00.679987Z"
    }
   },
   "source": [
    "def visit_basic_type(node):\n",
    "    return type_map[node.children[0].value]\n",
    "\n",
    "\n",
    "def visit_type(node):\n",
    "    type = {\"basic_type\": None, \"is_array\": False, \"period\": None}\n",
    "    for child in node.children:\n",
    "        if child.data == \"basic_type\":\n",
    "            type[\"basic_type\"] = visit_basic_type(child)\n",
    "        elif child.data == \"period\":\n",
    "            type[\"period\"] = visit_period(child)\n",
    "            type[\"is_array\"] = True\n",
    "    return type\n",
    "\n",
    "\n",
    "def visit_period(node):\n",
    "    periods = []\n",
    "    current_period = []\n",
    "    for children in node.children:\n",
    "        if isinstance(children, lark.lexer.Token):\n",
    "            current_period.append(int(children.value))\n",
    "        elif children.data == \"period\":\n",
    "            current_period = visit_period(children)\n",
    "            periods.append(current_period)\n",
    "            current_period = []\n",
    "    periods.append(current_period)\n",
    "    return periods\n",
    "\n",
    "\n",
    "parser = lark.Lark(grammar, start=\"type\")\n",
    "test_code = \"array [1..2] of integer\"\n",
    "visit_type(parser.parse(test_code))"
   ],
   "outputs": [
    {
     "data": {
      "text/plain": [
       "{'basic_type': 'int', 'is_array': True, 'period': [[1, 2]]}"
      ]
     },
     "execution_count": 11,
     "metadata": {},
     "output_type": "execute_result"
    }
   ],
   "execution_count": 11
  },
  {
   "cell_type": "code",
   "id": "57557ee7",
   "metadata": {
    "ExecuteTime": {
     "end_time": "2024-05-05T14:39:00.832042Z",
     "start_time": "2024-05-05T14:39:00.753992Z"
    }
   },
   "source": [
    "def visit_value_parameter(node):\n",
    "    ids = []\n",
    "    type = None\n",
    "    for child in node.children:\n",
    "        if child.data == \"idlist\":\n",
    "            ids = visit_idlist(child)\n",
    "        elif child.data == \"basic_type\":\n",
    "            type = visit_basic_type(child)\n",
    "    return {\"ids\": ids, \"type\": type}\n",
    "\n",
    "\n",
    "def visit_var_parameter(node):\n",
    "    tokens = []\n",
    "    value_parameter = visit_value_parameter(node.children[0])\n",
    "    tokens.append(value_parameter[\"type\"])\n",
    "    first = True\n",
    "    for id in value_parameter[\"ids\"]:\n",
    "        if first:\n",
    "            tokens.append(id)\n",
    "            first = False\n",
    "        else:\n",
    "            tokens.append(\",\")\n",
    "            tokens.append(id)\n",
    "    tokens.append(\";\")\n",
    "    return tokens\n",
    "\n",
    "\n",
    "parser = lark.Lark(grammar, start=\"var_parameter\")\n",
    "test_code = \"var a,b:integer\"\n",
    "tokens_list = visit_var_parameter(parser.parse(test_code))\n",
    "\"   \".join(tokens_list)"
   ],
   "outputs": [
    {
     "data": {
      "text/plain": [
       "'int   a   ,   b   ;'"
      ]
     },
     "execution_count": 12,
     "metadata": {},
     "output_type": "execute_result"
    }
   ],
   "execution_count": 12
  },
  {
   "cell_type": "code",
   "id": "29945fc9c2639046",
   "metadata": {
    "ExecuteTime": {
     "end_time": "2024-05-05T14:39:00.878957Z",
     "start_time": "2024-05-05T14:39:00.833563Z"
    }
   },
   "source": [
    "type_map = {\n",
    "    \"integer\": \"int\",\n",
    "    \"real\": \"float\",\n",
    "    \"boolean\": \"bool\",\n",
    "    \"char\": \"char\"\n",
    "}\n",
    "\n",
    "\n",
    "def visit_parameter(node):\n",
    "    tokens = []\n",
    "    for child in node.children:\n",
    "        if child.data == \"var_parameter\":\n",
    "            return visit_var_parameter(child)\n",
    "        elif child.data == \"value_parameter\":\n",
    "            value_parameter = visit_value_parameter(child)\n",
    "            tokens.append(value_parameter[\"type\"])\n",
    "            first = True\n",
    "            for id in value_parameter[\"ids\"]:\n",
    "                if first:\n",
    "                    tokens.append(id)\n",
    "                    first = False\n",
    "                else:\n",
    "                    tokens.append(\",\")\n",
    "                    tokens.append(id)\n",
    "    return tokens\n",
    "\n",
    "\n",
    "def visit_value_parameter(node):\n",
    "    ids = []\n",
    "    type = None\n",
    "    for child in node.children:\n",
    "        if child.data == \"idlist\":\n",
    "            ids = visit_idlist(child)\n",
    "        elif child.data == \"basic_type\":\n",
    "            type = visit_basic_type(child)\n",
    "    return {\"ids\": ids, \"type\": type}\n",
    "\n",
    "\n",
    "def visit_var_parameter(node):\n",
    "    tokens = []\n",
    "    value_parameter = visit_value_parameter(node.children[0])\n",
    "    first = True\n",
    "    for id in value_parameter[\"ids\"]:\n",
    "        if first:\n",
    "            first = False\n",
    "        else:\n",
    "            tokens.append(\",\")\n",
    "        tokens.append(value_parameter[\"type\"])\n",
    "        tokens.append(id)\n",
    "    return tokens\n",
    "\n",
    "\n",
    "def visit_parameter_list(node):\n",
    "    tokens = []\n",
    "    first = True\n",
    "    for child in node.children:\n",
    "        assert child.data == \"parameter\"\n",
    "        if first:\n",
    "            first = False\n",
    "        else:\n",
    "            tokens.append(\",\")\n",
    "        tokens.extend(visit_parameter(child))\n",
    "    return tokens\n",
    "\n",
    "\n",
    "parser = lark.Lark(grammar, start=\"parameter_list\")\n",
    "test_code = \"var a,b:integer; c:real\"\n",
    "visit_parameter_list(parser.parse(test_code))"
   ],
   "outputs": [
    {
     "data": {
      "text/plain": [
       "['int', 'a', ',', 'int', 'b', ',', 'float', 'c']"
      ]
     },
     "execution_count": 13,
     "metadata": {},
     "output_type": "execute_result"
    }
   ],
   "execution_count": 13
  },
  {
   "cell_type": "code",
   "id": "700aa5cec58380c1",
   "metadata": {
    "ExecuteTime": {
     "end_time": "2024-05-05T14:39:00.922141Z",
     "start_time": "2024-05-05T14:39:00.880072Z"
    }
   },
   "source": [
    "def visit_formal_parameter(node):\n",
    "    tokens = []\n",
    "    tokens.append(\"(\")\n",
    "    parameter_list = visit_parameter_list(node.children[0])\n",
    "    tokens.extend(parameter_list)\n",
    "    tokens.append(\")\")\n",
    "    return tokens\n",
    "\n",
    "\n",
    "parser = lark.Lark(grammar, start=\"formal_parameter\")\n",
    "test_code = \"(var a,b:integer; c:real)\"\n",
    "tokens = visit_formal_parameter(parser.parse(test_code))\n",
    "for token in tokens:\n",
    "    print(token)"
   ],
   "outputs": [
    {
     "name": "stdout",
     "output_type": "stream",
     "text": [
      "(\n",
      "int\n",
      "a\n",
      ",\n",
      "int\n",
      "b\n",
      ",\n",
      "float\n",
      "c\n",
      ")\n"
     ]
    }
   ],
   "execution_count": 14
  },
  {
   "cell_type": "code",
   "id": "3bd58f2e",
   "metadata": {
    "ExecuteTime": {
     "end_time": "2024-05-05T14:39:00.965629Z",
     "start_time": "2024-05-05T14:39:00.923212Z"
    }
   },
   "source": [
    "def visit_subprogram_head(node):\n",
    "    tokens = []\n",
    "    basic_type = None\n",
    "    id = None\n",
    "    formal_parameter = None\n",
    "    for child in node.children:\n",
    "        if child.data == \"basic_type\":\n",
    "            basic_type = visit_basic_type(child)\n",
    "        elif child.data == \"id\":\n",
    "            id = visit_id(child)\n",
    "        elif child.data == \"formal_parameter\":\n",
    "            formal_parameter = visit_formal_parameter(child)\n",
    "    if basic_type:\n",
    "        tokens.append(basic_type)\n",
    "    else:\n",
    "        tokens.append(\"void\")\n",
    "    tokens.append(id)\n",
    "    tokens.extend(formal_parameter)\n",
    "    return tokens\n",
    "\n",
    "\n",
    "parser = lark.Lark(grammar, start=\"subprogram_head\")\n",
    "test_code = \"function f(var a,b:integer; c:real):integer\"\n",
    "tokens = visit_subprogram_head(parser.parse(test_code))\n",
    "for token in tokens:\n",
    "    print(token)\n",
    "\n"
   ],
   "outputs": [
    {
     "name": "stdout",
     "output_type": "stream",
     "text": [
      "int\n",
      "f\n",
      "(\n",
      "int\n",
      "a\n",
      ",\n",
      "int\n",
      "b\n",
      ",\n",
      "float\n",
      "c\n",
      ")\n"
     ]
    }
   ],
   "execution_count": 15
  },
  {
   "cell_type": "code",
   "id": "ddf34225",
   "metadata": {
    "ExecuteTime": {
     "end_time": "2024-05-05T14:39:01.021655Z",
     "start_time": "2024-05-05T14:39:00.966640Z"
    }
   },
   "source": [
    "def visit_id_varpart(node):\n",
    "    tokens = []\n",
    "    for child in node.children:\n",
    "        if child.data == \"empty\":\n",
    "            return tokens\n",
    "        elif child.data == \"expression_list\":\n",
    "            tokens.append(\"[\")\n",
    "            expression_list = visit_expression_list(child)\n",
    "            tokens.extend(expression_list)\n",
    "            tokens.append(\"]\")\n",
    "    return tokens\n",
    "\n",
    "\n",
    "def visit_variable(node):\n",
    "    tokens = []\n",
    "    for child in node.children:\n",
    "        if child.data == \"id\":\n",
    "            tokens.append(visit_id(child))\n",
    "        elif child.data == \"expression\":\n",
    "            tokens.append(\"[\")\n",
    "            expression_tokens = visit_expression(child)\n",
    "            tokens.extend(expression_tokens)\n",
    "            tokens.append(\"]\")\n",
    "    return tokens\n",
    "\n",
    "\n",
    "def visit_variable_list(node):\n",
    "    tokens = []\n",
    "    first = True\n",
    "    for child in node.children:\n",
    "        if first:\n",
    "            first = False\n",
    "        else:\n",
    "            tokens.append(\",\")\n",
    "        tokens.extend(visit_variable(child))\n",
    "    return tokens\n",
    "\n",
    "\n",
    "def visit_func_id(node):\n",
    "    tokens = []\n",
    "    for child in node.children:\n",
    "        id = visit_id(child)\n",
    "    return tokens\n",
    "\n",
    "\n",
    "def visit_factor(node):\n",
    "    tokens = []\n",
    "    for child in node.children:\n",
    "        if isinstance(child, lark.lexer.Token):\n",
    "            token_type = child.type\n",
    "            token_value = child.value\n",
    "            if token_type == \"NOT\":\n",
    "                tokens.append(\"!\")\n",
    "            elif token_type == \"UMINUS\":\n",
    "                tokens.append(uminus_map[token_value])\n",
    "        elif child.data == \"num\":\n",
    "            num_token = visit_num(child)\n",
    "            tokens.extend(num_token)\n",
    "        elif child.data == \"id\":\n",
    "            id_token = visit_id(child)\n",
    "            tokens.extend(id_token)\n",
    "        elif child.data == \"expression\":\n",
    "            tokens.append(\"(\")\n",
    "            expression_token = visit_expression(child)\n",
    "            tokens.extend(expression_token)\n",
    "            tokens.append(\")\")\n",
    "        elif child.data == \"factor\":\n",
    "            factor_token = visit_factor(child)\n",
    "            tokens.extend(factor_token)\n",
    "        elif child.data == \"func_id\":\n",
    "            func_id_token = visit_func_id(child)\n",
    "            tokens.extend(func_id_token)\n",
    "        elif child.data == \"expression_list\":\n",
    "            tokens.append(\"(\")\n",
    "            expression_list_token = visit_expression_list(child)\n",
    "            tokens.extend(expression_list_token)\n",
    "            tokens.append(\")\")\n",
    "        elif child.data == \"variable\":\n",
    "            variable_token = visit_variable(child)\n",
    "            tokens.extend(variable_token)\n",
    "        else:\n",
    "            raise Exception(\"Unknown factor child data: {}\".format(child.data))\n",
    "    return tokens\n",
    "\n",
    "\n",
    "def visit_term(node):\n",
    "    tokens = []\n",
    "    for child in node.children:\n",
    "        if isinstance(child, lark.lexer.Token):\n",
    "            tokens.append(mulop_map[child.value])\n",
    "        elif child.data == \"factor\":\n",
    "            factor_token = visit_factor(child)\n",
    "            tokens.extend(factor_token)\n",
    "        elif child.data == \"term\":\n",
    "            term_token = visit_term(child)\n",
    "            tokens.extend(term_token)\n",
    "    return tokens\n",
    "\n",
    "\n",
    "def visit_simple_expression(node):\n",
    "    tokens = []\n",
    "    for child in node.children:\n",
    "        if isinstance(child, lark.lexer.Token):\n",
    "            tokens.append(addop_map[child.value])\n",
    "        elif child.data == \"term\":\n",
    "            term_token = visit_term(child)\n",
    "            tokens.extend(term_token)\n",
    "        elif child.data == \"simple_expression\":\n",
    "            simple_expression_token = visit_simple_expression(child)\n",
    "            tokens.extend(simple_expression_token)\n",
    "    return tokens\n",
    "\n",
    "\n",
    "def visit_expression(node):\n",
    "    tokens = []\n",
    "    for child in node.children:\n",
    "        if isinstance(child, lark.lexer.Token):\n",
    "            tokens.append(relop_map[child.value])\n",
    "        elif child.data == \"simple_expression\":\n",
    "            simple_expression_token = visit_simple_expression(child)\n",
    "            tokens.extend(simple_expression_token)\n",
    "        elif child.data == \"expression\":\n",
    "            expression_token = visit_expression(child)\n",
    "            tokens.extend(expression_token)\n",
    "        else:\n",
    "            raise Exception(\"Unknown expression child data: {}\".format(child.data))\n",
    "    return tokens\n",
    "\n",
    "\n",
    "def visit_expression_list(node):\n",
    "    tokens = []\n",
    "    first = True\n",
    "    for child in node.children:\n",
    "        if first:\n",
    "            first = False\n",
    "        else:\n",
    "            tokens.append(\",\")\n",
    "        expression_tokens = visit_expression(child)\n",
    "        tokens.extend(expression_tokens)\n",
    "    return tokens\n",
    "\n",
    "\n",
    "parser = lark.Lark(grammar, start=\"expression_list\")\n",
    "test_code = \"1<2,3>4\"\n",
    "tokens = visit_expression_list(parser.parse(test_code))\n",
    "for token in tokens:\n",
    "    print(token)"
   ],
   "outputs": [
    {
     "name": "stdout",
     "output_type": "stream",
     "text": [
      "1\n",
      "<\n",
      "2\n",
      ",\n",
      "3\n",
      ">\n",
      "4\n"
     ]
    }
   ],
   "execution_count": 16
  },
  {
   "cell_type": "code",
   "id": "a4257c72",
   "metadata": {
    "ExecuteTime": {
     "end_time": "2024-05-05T14:39:01.081080Z",
     "start_time": "2024-05-05T14:39:01.023663Z"
    }
   },
   "source": [
    "def visit_assign_statement(node):\n",
    "    tokens = []\n",
    "    for child in node.children:\n",
    "        if isinstance(child, lark.lexer.Token):\n",
    "            tokens.append(assignop_map[child.value])\n",
    "        elif child.data == \"expression\":\n",
    "            expression_tokens = visit_expression(child)\n",
    "            tokens.extend(expression_tokens)\n",
    "        elif child.data == \"variable\":\n",
    "            variable_tokens = visit_variable(child)\n",
    "            tokens.extend(variable_tokens)\n",
    "        else:\n",
    "            raise Exception(\n",
    "                \"Unknown assignment_statement child data: {}\".format(child.data)\n",
    "            )\n",
    "    return tokens\n",
    "\n",
    "\n",
    "def visit_if_else_statement(node):\n",
    "    tokens = []\n",
    "    for child in node.children:\n",
    "        if child.data == \"expression\":\n",
    "            tokens.append(\"if\")\n",
    "            tokens.append(\"(\")\n",
    "            expression_tokens = visit_expression(child)\n",
    "            tokens.extend(expression_tokens)\n",
    "            tokens.append(\")\")\n",
    "        elif child.data == \"statement\":\n",
    "            tokens.append(\"{\")\n",
    "            statement_tokens = visit_statement(child)\n",
    "            tokens.extend(statement_tokens)\n",
    "            tokens.append(\"}\")\n",
    "        elif child.data == \"else_part\":\n",
    "            tokens.apend(\"{\")\n",
    "            else_part_tokens = visit_else_part(child)\n",
    "            tokens.extend(else_part_tokens)\n",
    "            tokens.append(\"}\")\n",
    "        else:\n",
    "            raise Exception(\n",
    "                \"Unknown if_else_statement child data: {}\".format(child.data)\n",
    "            )\n",
    "    return tokens\n",
    "\n",
    "\n",
    "def visit_else_part(node):\n",
    "    tokens = []\n",
    "    for child in node.children:\n",
    "        if child.data == \"empyt\":\n",
    "            return tokens\n",
    "        elif child.data == \"statement\":\n",
    "            tokens.append(\"else\")\n",
    "            tokens.append(\"{\")\n",
    "            statement_tokens = visit_statement(child)\n",
    "            tokens.extend(statement_tokens)\n",
    "            tokens.append(\"}\")\n",
    "        else:\n",
    "            raise Exception(\"Unknown else_part child data: {}\".format(child.data))\n",
    "    return tokens\n",
    "\n",
    "\n",
    "def visit_procedure_call(node):\n",
    "    tokens = []\n",
    "    for child in node.children:\n",
    "        if child.data == \"id\":\n",
    "            tokens.append(visit_id(child))\n",
    "        elif child.data == \"expression_list\":\n",
    "            tokens.append(\"(\")\n",
    "            expression_list_tokens = visit_expression_list(child)\n",
    "            tokens.extend(expression_list_tokens)\n",
    "            tokens.append(\")\")\n",
    "        else:\n",
    "            raise Exception(\"Unknown procedure_call child data: {}\".format(child.data))\n",
    "    return tokens\n",
    "\n",
    "\n",
    "def visit_statement_list(node):\n",
    "    tokens = []\n",
    "    for child in node.children:\n",
    "        assert child.data == \"statement\"\n",
    "        statement_tokens = visit_statement(child)\n",
    "        tokens.extend(statement_tokens)\n",
    "        tokens.append(\";\")\n",
    "    return tokens\n",
    "\n",
    "\n",
    "def visit_compound_statement(node):\n",
    "    tokens = []\n",
    "    tokens.append(\"{\")\n",
    "    assert node.children[0].data == \"statement_list\"\n",
    "    statement_list_tokens = visit_statement_list(node.children[0])\n",
    "    tokens.extend(statement_list_tokens)\n",
    "\n",
    "    tokens.append(\"}\")\n",
    "    return tokens\n",
    "\n",
    "\n",
    "def visit_statement(node):\n",
    "    tokens = []\n",
    "    for child in node.children:\n",
    "        if child.data == \"assign_statement\":\n",
    "            assign_statement_tokens = visit_assign_statement(child)\n",
    "            tokens.extend(assign_statement_tokens)\n",
    "        elif child.data == \"if_else_statement\":\n",
    "            if_else_statement_tokens = visit_if_else_statement(child)\n",
    "            tokens.extend(if_else_statement_tokens)\n",
    "        elif child.data == \"procedure_call\":\n",
    "            procedure_call_tokens = visit_procedure_call(child)\n",
    "            tokens.extend(procedure_call_tokens)\n",
    "        elif child.data == \"compound_statement\":\n",
    "            compound_statement_tokens = visit_compound_statement(child)\n",
    "            tokens.extend(compound_statement_tokens)\n",
    "        else:\n",
    "            raise Exception(\"Unknown statement child data: {}\".format(child.data))\n",
    "    return tokens\n",
    "\n",
    "\n",
    "parser = lark.Lark(grammar, start=\"statement\")\n",
    "test_code = \"begin a:=1; b:=2 end\"\n",
    "tokens = visit_statement(parser.parse(test_code))"
   ],
   "outputs": [],
   "execution_count": 17
  },
  {
   "cell_type": "code",
   "id": "d32b0ad1",
   "metadata": {
    "ExecuteTime": {
     "end_time": "2024-05-05T14:39:01.128814Z",
     "start_time": "2024-05-05T14:39:01.082604Z"
    }
   },
   "source": [
    "def visit_const_value(node):\n",
    "    tokens = []\n",
    "    for child in node.children:\n",
    "        if isinstance(child, lark.lexer.Token):\n",
    "            if child.type == \"PLUS\":\n",
    "                tokens.append(\"+\")\n",
    "            elif child.type == \"MINUS\":\n",
    "                tokens.append(\"-\")\n",
    "            elif child.type == \"LETTER\":\n",
    "                tokens.append(\"'\" + child.value + \"'\")\n",
    "            else:\n",
    "                raise Exception(\"Unknown const_value child type: {}\".format(child.type))\n",
    "\n",
    "        elif child.data == \"num\":\n",
    "            num_tokens = visit_num(child)\n",
    "            tokens.extend(num_tokens)\n",
    "        else:\n",
    "            raise Exception(\"Unknown const_value child data: {}\".format(child.data))\n",
    "\n",
    "    return tokens\n",
    "\n",
    "\n",
    "def visit_const_declaration(node):\n",
    "    tokens = []\n",
    "    for child in node.children:\n",
    "        if child.data == \"id\":\n",
    "            tokens.append(\"const\")\n",
    "            tokens.append(\"int\")\n",
    "            tokens.append(visit_id(child))\n",
    "        elif child.data == \"const_value\":\n",
    "            tokens.append(\"=\")\n",
    "            tokens.extend(visit_const_value(child))\n",
    "            tokens.append(\";\")\n",
    "        elif child.data == \"const_declaration\":\n",
    "            tokens.extend(visit_const_declaration(child))\n",
    "        else:\n",
    "            raise Exception(\n",
    "                \"Unknown const_declaration child data: {}\".format(child.data)\n",
    "            )\n",
    "    return tokens\n",
    "\n",
    "\n",
    "def visit_const_declarations(node):\n",
    "    tokens = []\n",
    "    for child in node.children:\n",
    "        if child.data == \"const_declaration\":\n",
    "            tokens.extend(visit_const_declaration(child))\n",
    "        elif child.data == \"empty\":\n",
    "            return tokens\n",
    "        else:\n",
    "            raise Exception(\n",
    "                \"Unknown const_declarations child data: {}\".format(child.data)\n",
    "            )\n",
    "    return tokens\n",
    "\n",
    "\n",
    "def visit_var_declaration(node):\n",
    "    tokens = []\n",
    "    idlist = []\n",
    "    id_type = None\n",
    "    for child in node.children:\n",
    "        if child.data == \"idlist\":\n",
    "            idlist = visit_idlist(child)\n",
    "        elif child.data == \"type\":\n",
    "            id_type = visit_type(child)\n",
    "        elif child.data == \"var_declaration\":\n",
    "            tokens.extend(visit_var_declaration(child))\n",
    "        else:\n",
    "            raise Exception(\"Unknown var_declaration child data: {}\".format(child.data))\n",
    "\n",
    "    for id in idlist:\n",
    "        tokens.append(id_type[\"basic_type\"])\n",
    "        tokens.append(id)\n",
    "        if id_type[\"is_array\"]:\n",
    "            for period in id_type[\"period\"]:\n",
    "                tokens.append(\"[\")\n",
    "                tokens.append(str(period[0]))\n",
    "                tokens.append(\"]\")\n",
    "                tokens.append(\"[\")\n",
    "                tokens.append(str(period[1]))\n",
    "                tokens.append(\"]\")\n",
    "        tokens.append(\";\")\n",
    "    return tokens\n",
    "\n",
    "\n",
    "def visit_var_declarations(node):\n",
    "    tokens = []\n",
    "    for child in node.children:\n",
    "        if child.data == \"var_declaration\":\n",
    "            tokens.extend(visit_var_declaration(child))\n",
    "        elif child.data == \"empty\":\n",
    "            return tokens\n",
    "        else:\n",
    "            raise Exception(\n",
    "                \"Unknown var_declarations child data: {}\".format(child.data)\n",
    "            )\n",
    "    return tokens\n",
    "\n",
    "\n",
    "parser = lark.Lark(grammar, start=\"const_declarations\")\n",
    "test_code = \"const a = 1; b = 2;\"\n",
    "tokens = visit_const_declarations(parser.parse(test_code))\n",
    "for token in tokens:\n",
    "    print(token)"
   ],
   "outputs": [
    {
     "name": "stdout",
     "output_type": "stream",
     "text": [
      "const\n",
      "int\n",
      "a\n",
      "=\n",
      "1\n",
      ";\n",
      "const\n",
      "int\n",
      "b\n",
      "=\n",
      "2\n",
      ";\n"
     ]
    }
   ],
   "execution_count": 18
  },
  {
   "cell_type": "code",
   "id": "5ad44565",
   "metadata": {
    "ExecuteTime": {
     "end_time": "2024-05-05T14:39:01.169579Z",
     "start_time": "2024-05-05T14:39:01.130826Z"
    }
   },
   "source": [
    "parser = lark.Lark(grammar, start=\"var_declarations\")\n",
    "test_code = \"var a:integer; b:real;\"\n",
    "tokens = visit_var_declarations(parser.parse(test_code))\n",
    "for token in tokens:\n",
    "    print(token)"
   ],
   "outputs": [
    {
     "name": "stdout",
     "output_type": "stream",
     "text": [
      "int\n",
      "a\n",
      ";\n",
      "float\n",
      "b\n",
      ";\n"
     ]
    }
   ],
   "execution_count": 19
  },
  {
   "cell_type": "code",
   "id": "75af8b75",
   "metadata": {
    "ExecuteTime": {
     "end_time": "2024-05-05T14:39:25.302931Z",
     "start_time": "2024-05-05T14:39:25.154346Z"
    }
   },
   "source": [
    "from mp2c import Converter\n",
    "\n",
    "parser = Converter()\n",
    "with open(\"example.pas\") as f:\n",
    "    code = f.read()\n",
    "tree, tokens, result_string = parser(code)"
   ],
   "outputs": [
    {
     "name": "stdout",
     "output_type": "stream",
     "text": [
      "func name gcd\n",
      "1\n",
      "reg\n",
      "['int', 'gcd', '(', 'int', 'a', ',', 'int', 'b', ')']\n",
      "['{', 'int', '_gcd', ';', 'if', '(', 'b', '==', '0', ')', '{', '_gcd', '=', 'a', ';', '}', 'else', '{', '_gcd', '=', 'gcd', '(', 'b', ',', 'a', '%', 'b', ')', ';', '}', ';', ';', ';', 'return', '_gcd', ';', '}']\n",
      "{}\n",
      "['x']\n",
      "['y']\n",
      "func name main\n",
      "functions\n",
      "{'gcd': gcd}\n"
     ]
    }
   ],
   "execution_count": 26
  },
  {
   "cell_type": "code",
   "id": "754b4830",
   "metadata": {
    "ExecuteTime": {
     "end_time": "2024-05-05T14:39:27.778676Z",
     "start_time": "2024-05-05T14:39:27.774145Z"
    }
   },
   "source": [
    "result_string"
   ],
   "outputs": [
    {
     "data": {
      "text/plain": [
       "'#include \"mp2c.h\"\\nint gcd(int a, int b);\\nint x;\\nint y;\\nint main() {\\n  scanf(\"%d%d\", &x, &y);\\n  printf(\"%d\", gcd(x, y));\\n}\\nint gcd(int a, int b) {\\n  int _gcd;\\n  if (b == 0) {\\n    _gcd = a;\\n  } else {\\n    _gcd = gcd(b, a % b);\\n  };\\n  return _gcd;\\n}'"
      ]
     },
     "execution_count": 27,
     "metadata": {},
     "output_type": "execute_result"
    }
   ],
   "execution_count": 27
  },
  {
   "cell_type": "code",
   "id": "f78c440d",
   "metadata": {
    "ExecuteTime": {
     "end_time": "2024-05-05T14:39:31.655856Z",
     "start_time": "2024-05-05T14:39:31.652751Z"
    }
   },
   "source": [
    "print(result_string)"
   ],
   "outputs": [
    {
     "name": "stdout",
     "output_type": "stream",
     "text": [
      "#include \"mp2c.h\"\n",
      "int gcd(int a, int b);\n",
      "int x;\n",
      "int y;\n",
      "int main() {\n",
      "  scanf(\"%d%d\", &x, &y);\n",
      "  printf(\"%d\", gcd(x, y));\n",
      "}\n",
      "int gcd(int a, int b) {\n",
      "  int _gcd;\n",
      "  if (b == 0) {\n",
      "    _gcd = a;\n",
      "  } else {\n",
      "    _gcd = gcd(b, a % b);\n",
      "  };\n",
      "  return _gcd;\n",
      "}\n"
     ]
    }
   ],
   "execution_count": 28
  },
  {
   "cell_type": "code",
   "id": "815cae3c",
   "metadata": {},
   "source": [
    "print(result_string)"
   ],
   "outputs": [],
   "execution_count": null
  },
  {
   "cell_type": "code",
   "id": "b9bd8ead",
   "metadata": {},
   "source": [
    "tokens"
   ],
   "outputs": [],
   "execution_count": null
  },
  {
   "cell_type": "code",
   "id": "475a2252",
   "metadata": {},
   "source": [
    "print(tree.pretty())"
   ],
   "outputs": [],
   "execution_count": null
  },
  {
   "cell_type": "code",
   "id": "be424809",
   "metadata": {},
   "source": [
    "hellow_world_code = r\"\"\"\n",
    "program Answer;\n",
    "{Answer to the Ultimate Question of Life, the Universe, and Everything}\n",
    "\n",
    "begin\n",
    "  X := 42; {Set X to 42}\n",
    "  writeln(X) {Write X to the screen}\n",
    "end.\n",
    "\"\"\"\n",
    "\n",
    "from mp2c import preprocess"
   ],
   "outputs": [],
   "execution_count": null
  },
  {
   "cell_type": "code",
   "id": "d36d2164",
   "metadata": {},
   "source": "x = preprocess(hellow_world_code)",
   "outputs": [],
   "execution_count": null
  },
  {
   "cell_type": "code",
   "id": "7300b5fe",
   "metadata": {},
   "source": [
    "parser = MP2CParser()\n",
    "tree, tokens, result_string = parser(x)"
   ],
   "outputs": [],
   "execution_count": null
  },
  {
   "cell_type": "code",
   "id": "c42a7913",
   "metadata": {},
   "source": [
    "print(tree.pretty())"
   ],
   "outputs": [],
   "execution_count": null
  },
  {
   "cell_type": "code",
   "id": "ec9b9d04",
   "metadata": {},
   "source": [
    "# write tree.pretty() to file\n",
    "with open(\"tree.txt\", \"w\") as f:\n",
    "    f.write(tree.pretty())"
   ],
   "outputs": [],
   "execution_count": null
  },
  {
   "cell_type": "code",
   "id": "6cac5537",
   "metadata": {},
   "source": [
    "tokens"
   ],
   "outputs": [],
   "execution_count": null
  },
  {
   "cell_type": "code",
   "id": "bcd049ff",
   "metadata": {
    "ExecuteTime": {
     "end_time": "2024-05-05T14:39:01.532014Z",
     "start_time": "2024-05-05T14:39:01.518410Z"
    }
   },
   "source": [
    "print(result_string)"
   ],
   "outputs": [
    {
     "ename": "NameError",
     "evalue": "name 'result_string' is not defined",
     "output_type": "error",
     "traceback": [
      "\u001B[1;31m---------------------------------------------------------------------------\u001B[0m",
      "\u001B[1;31mNameError\u001B[0m                                 Traceback (most recent call last)",
      "Cell \u001B[1;32mIn[21], line 1\u001B[0m\n\u001B[1;32m----> 1\u001B[0m \u001B[38;5;28mprint\u001B[39m(\u001B[43mresult_string\u001B[49m)\n",
      "\u001B[1;31mNameError\u001B[0m: name 'result_string' is not defined"
     ]
    }
   ],
   "execution_count": 21
  },
  {
   "cell_type": "code",
   "id": "e48b100e",
   "metadata": {
    "ExecuteTime": {
     "end_time": "2024-05-05T14:39:01.618695Z",
     "start_time": "2024-05-05T14:39:01.600404Z"
    }
   },
   "source": [
    "with open(\"example.pas\", \"r\") as f:\n",
    "    code = f.read()\n",
    "tree, tokens, result_string = parser(code)"
   ],
   "outputs": [
    {
     "ename": "TypeError",
     "evalue": "'Lark' object is not callable",
     "output_type": "error",
     "traceback": [
      "\u001B[1;31m---------------------------------------------------------------------------\u001B[0m",
      "\u001B[1;31mTypeError\u001B[0m                                 Traceback (most recent call last)",
      "Cell \u001B[1;32mIn[22], line 3\u001B[0m\n\u001B[0;32m      1\u001B[0m \u001B[38;5;28;01mwith\u001B[39;00m \u001B[38;5;28mopen\u001B[39m(\u001B[38;5;124m\"\u001B[39m\u001B[38;5;124mexample.pas\u001B[39m\u001B[38;5;124m\"\u001B[39m, \u001B[38;5;124m\"\u001B[39m\u001B[38;5;124mr\u001B[39m\u001B[38;5;124m\"\u001B[39m) \u001B[38;5;28;01mas\u001B[39;00m f:\n\u001B[0;32m      2\u001B[0m     code \u001B[38;5;241m=\u001B[39m f\u001B[38;5;241m.\u001B[39mread()\n\u001B[1;32m----> 3\u001B[0m tree, tokens, result_string \u001B[38;5;241m=\u001B[39m \u001B[43mparser\u001B[49m\u001B[43m(\u001B[49m\u001B[43mcode\u001B[49m\u001B[43m)\u001B[49m\n",
      "\u001B[1;31mTypeError\u001B[0m: 'Lark' object is not callable"
     ]
    }
   ],
   "execution_count": 22
  },
  {
   "cell_type": "code",
   "id": "bbbe5487",
   "metadata": {
    "ExecuteTime": {
     "end_time": "2024-05-05T14:39:01.693925Z",
     "start_time": "2024-05-05T14:39:01.681211Z"
    }
   },
   "source": [
    "print(result_string)"
   ],
   "outputs": [
    {
     "ename": "NameError",
     "evalue": "name 'result_string' is not defined",
     "output_type": "error",
     "traceback": [
      "\u001B[1;31m---------------------------------------------------------------------------\u001B[0m",
      "\u001B[1;31mNameError\u001B[0m                                 Traceback (most recent call last)",
      "Cell \u001B[1;32mIn[23], line 1\u001B[0m\n\u001B[1;32m----> 1\u001B[0m \u001B[38;5;28mprint\u001B[39m(\u001B[43mresult_string\u001B[49m)\n",
      "\u001B[1;31mNameError\u001B[0m: name 'result_string' is not defined"
     ]
    }
   ],
   "execution_count": 23
  },
  {
   "cell_type": "code",
   "id": "f4480502",
   "metadata": {
    "ExecuteTime": {
     "end_time": "2024-05-05T14:39:01.741485Z",
     "start_time": "2024-05-05T14:39:01.737600Z"
    }
   },
   "source": [
    "print(tree.pretty())"
   ],
   "outputs": [
    {
     "name": "stdout",
     "output_type": "stream",
     "text": [
      "id\thello\n",
      "\n"
     ]
    }
   ],
   "execution_count": 24
  },
  {
   "cell_type": "code",
   "id": "6fd761e4",
   "metadata": {
    "ExecuteTime": {
     "end_time": "2024-05-05T14:39:01.785218Z",
     "start_time": "2024-05-05T14:39:01.780838Z"
    }
   },
   "source": [
    "type(tree)"
   ],
   "outputs": [
    {
     "data": {
      "text/plain": [
       "lark.tree.Tree"
      ]
     },
     "execution_count": 25,
     "metadata": {},
     "output_type": "execute_result"
    }
   ],
   "execution_count": 25
  },
  {
   "cell_type": "code",
   "id": "5bf3b22c",
   "metadata": {
    "ExecuteTime": {
     "end_time": "2024-05-05T14:39:01.828510Z",
     "start_time": "2024-05-05T14:39:01.826143Z"
    }
   },
   "source": [],
   "outputs": [],
   "execution_count": 25
  }
 ],
 "metadata": {
  "kernelspec": {
   "display_name": "Python 3",
   "language": "python",
   "name": "python3"
  },
  "language_info": {
   "codemirror_mode": {
    "name": "ipython",
    "version": 3
   },
   "file_extension": ".py",
   "mimetype": "text/x-python",
   "name": "python",
   "nbconvert_exporter": "python",
   "pygments_lexer": "ipython3",
   "version": "3.11.6"
  }
 },
 "nbformat": 4,
 "nbformat_minor": 5
}
