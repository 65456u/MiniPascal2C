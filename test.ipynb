{
 "cells": [
  {
   "cell_type": "code",
   "execution_count": 1,
   "id": "initial_id",
   "metadata": {
    "ExecuteTime": {
     "end_time": "2024-03-30T12:27:40.943166Z",
     "start_time": "2024-03-30T12:27:40.938954Z"
    },
    "collapsed": true
   },
   "outputs": [],
   "source": [
    "import lark"
   ]
  },
  {
   "cell_type": "code",
   "execution_count": 2,
   "id": "3bd58f2e",
   "metadata": {},
   "outputs": [],
   "source": [
    "from mp2c import MP2CParser"
   ]
  },
  {
   "cell_type": "code",
   "execution_count": 3,
   "id": "2ab2ea3a",
   "metadata": {},
   "outputs": [],
   "source": [
    "parser=MP2CParser()"
   ]
  },
  {
   "cell_type": "code",
   "execution_count": 4,
   "id": "a2e2f7c697d4c6c7",
   "metadata": {
    "ExecuteTime": {
     "end_time": "2024-03-30T12:27:41.434257Z",
     "start_time": "2024-03-30T12:27:41.397746Z"
    },
    "collapsed": false
   },
   "outputs": [],
   "source": [
    "with open(\"mp2c/MiniPascal.lark\") as f:\n",
    "    parser = lark.Lark(f.read(), start=\"programstruct\")"
   ]
  },
  {
   "cell_type": "code",
   "execution_count": 5,
   "id": "d5b39a1a654a69eb",
   "metadata": {
    "ExecuteTime": {
     "end_time": "2024-03-30T12:27:41.804136Z",
     "start_time": "2024-03-30T12:27:41.800497Z"
    },
    "collapsed": false
   },
   "outputs": [],
   "source": [
    "with open('test.pas') as f:\n",
    "    code=f.read()"
   ]
  },
  {
   "cell_type": "code",
   "execution_count": 6,
   "id": "70bf5169e831a844",
   "metadata": {
    "ExecuteTime": {
     "end_time": "2024-03-30T12:27:42.336027Z",
     "start_time": "2024-03-30T12:27:42.294471Z"
    },
    "collapsed": false
   },
   "outputs": [],
   "source": [
    "parser=MP2CParser()"
   ]
  },
  {
   "cell_type": "code",
   "execution_count": 8,
   "id": "a06a78edfe21265d",
   "metadata": {
    "collapsed": false
   },
   "outputs": [],
   "source": [
    "tree = parser(code)"
   ]
  },
  {
   "cell_type": "code",
   "execution_count": 9,
   "id": "8312b021",
   "metadata": {},
   "outputs": [
    {
     "name": "stdout",
     "output_type": "stream",
     "text": [
      "Tree(Token('RULE', 'program_head'), [Tree(Token('RULE', 'id'), [Token('IDENTIFIER_TOKEN', 'example')]), Tree(Token('RULE', 'idlist'), [Tree(Token('RULE', 'idlist'), [Tree(Token('RULE', 'id'), [Token('IDENTIFIER_TOKEN', 'input')])]), Tree(Token('RULE', 'id'), [Token('IDENTIFIER_TOKEN', 'output')])])])\n",
      "Tree(Token('RULE', 'program_body'), [Tree(Token('RULE', 'const_declarations'), [Tree(Token('RULE', 'empty'), [Token('WS', '\\n\\n')])]), Tree(Token('RULE', 'var_declarations'), [Tree(Token('RULE', 'var_declaration'), [Tree(Token('RULE', 'idlist'), [Tree(Token('RULE', 'idlist'), [Tree(Token('RULE', 'id'), [Token('IDENTIFIER_TOKEN', 'x')])]), Tree(Token('RULE', 'id'), [Token('IDENTIFIER_TOKEN', 'y')])]), Tree(Token('RULE', 'type'), [Tree(Token('RULE', 'basic_type'), [])])])]), Tree(Token('RULE', 'subprogram_declarations'), [Tree(Token('RULE', 'subprogram_declarations'), [Tree(Token('RULE', 'empty'), [])]), Tree(Token('RULE', 'subprogram'), [Tree(Token('RULE', 'subprogram_head'), [Tree(Token('RULE', 'id'), [Token('IDENTIFIER_TOKEN', 'gcd')]), Tree(Token('RULE', 'formal_parameter'), [Tree(Token('RULE', 'parameter_list'), [Tree(Token('RULE', 'parameter'), [Tree(Token('RULE', 'value_parameter'), [Tree(Token('RULE', 'idlist'), [Tree(Token('RULE', 'idlist'), [Tree(Token('RULE', 'id'), [Token('IDENTIFIER_TOKEN', 'a')])]), Tree(Token('RULE', 'id'), [Token('IDENTIFIER_TOKEN', 'b')])]), Tree(Token('RULE', 'basic_type'), [])])])])]), Tree(Token('RULE', 'basic_type'), [])]), Tree(Token('RULE', 'subprogram_body'), [Tree(Token('RULE', 'const_declarations'), [Tree(Token('RULE', 'empty'), [])]), Tree(Token('RULE', 'var_declarations'), [Tree(Token('RULE', 'empty'), [Token('WS', '\\n')])]), Tree(Token('RULE', 'compound_statement'), [Tree(Token('RULE', 'statement_list'), [Tree(Token('RULE', 'statement_list'), [Tree(Token('RULE', 'statement'), [Tree(Token('RULE', 'expression'), [Tree(Token('RULE', 'simple_expression'), [Tree(Token('RULE', 'term'), [Tree(Token('RULE', 'factor'), [Tree(Token('RULE', 'variable'), [Tree(Token('RULE', 'id'), [Token('IDENTIFIER_TOKEN', 'b')]), Tree(Token('RULE', 'id_varpart'), [Tree(Token('RULE', 'empty'), [Token('WS', ' ')])])])])])]), Tree(Token('RULE', 'relop'), []), Tree(Token('RULE', 'simple_expression'), [Tree(Token('RULE', 'term'), [Tree(Token('RULE', 'factor'), [Tree(Token('RULE', 'num'), [Tree(Token('RULE', 'digits'), [Token('DIGIT', '0')]), Tree(Token('RULE', 'optional_fraction'), [Tree(Token('RULE', 'empty'), [])])])])])])]), Tree(Token('RULE', 'statement'), [Tree(Token('RULE', 'variable'), [Tree(Token('RULE', 'id'), [Token('IDENTIFIER_TOKEN', 'gcd')]), Tree(Token('RULE', 'id_varpart'), [Tree(Token('RULE', 'empty'), [Token('WS', ' ')])])]), Tree(Token('RULE', 'assignop'), []), Tree(Token('RULE', 'expression'), [Tree(Token('RULE', 'simple_expression'), [Tree(Token('RULE', 'term'), [Tree(Token('RULE', 'factor'), [Tree(Token('RULE', 'variable'), [Tree(Token('RULE', 'id'), [Token('IDENTIFIER_TOKEN', 'a')]), Tree(Token('RULE', 'id_varpart'), [Tree(Token('RULE', 'empty'), [Token('WS', '\\n  ')])])])])])])])]), Tree(Token('RULE', 'else_part'), [Tree(Token('RULE', 'statement'), [Tree(Token('RULE', 'variable'), [Tree(Token('RULE', 'id'), [Token('IDENTIFIER_TOKEN', 'gcd')]), Tree(Token('RULE', 'id_varpart'), [Tree(Token('RULE', 'empty'), [Token('WS', ' ')])])]), Tree(Token('RULE', 'assignop'), []), Tree(Token('RULE', 'expression'), [Tree(Token('RULE', 'simple_expression'), [Tree(Token('RULE', 'term'), [Tree(Token('RULE', 'factor'), [Tree(Token('RULE', 'func_id'), [Tree(Token('RULE', 'id'), [Token('IDENTIFIER_TOKEN', 'gcd')])]), Tree(Token('RULE', 'expression_list'), [Tree(Token('RULE', 'expression_list'), [Tree(Token('RULE', 'expression'), [Tree(Token('RULE', 'simple_expression'), [Tree(Token('RULE', 'term'), [Tree(Token('RULE', 'factor'), [Tree(Token('RULE', 'variable'), [Tree(Token('RULE', 'id'), [Token('IDENTIFIER_TOKEN', 'b')]), Tree(Token('RULE', 'id_varpart'), [Tree(Token('RULE', 'empty'), [])])])])])])])]), Tree(Token('RULE', 'expression'), [Tree(Token('RULE', 'simple_expression'), [Tree(Token('RULE', 'term'), [Tree(Token('RULE', 'term'), [Tree(Token('RULE', 'factor'), [Tree(Token('RULE', 'variable'), [Tree(Token('RULE', 'id'), [Token('IDENTIFIER_TOKEN', 'a')]), Tree(Token('RULE', 'id_varpart'), [Tree(Token('RULE', 'empty'), [Token('WS', ' ')])])])])]), Tree(Token('RULE', 'mulop'), []), Tree(Token('RULE', 'factor'), [Tree(Token('RULE', 'variable'), [Tree(Token('RULE', 'id'), [Token('IDENTIFIER_TOKEN', 'b')]), Tree(Token('RULE', 'id_varpart'), [Tree(Token('RULE', 'empty'), [])])])])])])])])])])])])])])])]), Tree(Token('RULE', 'statement'), [Tree(Token('RULE', 'empty'), [])])])])])])]), Tree(Token('RULE', 'compound_statement'), [Tree(Token('RULE', 'statement_list'), [Tree(Token('RULE', 'statement_list'), [Tree(Token('RULE', 'statement_list'), [Tree(Token('RULE', 'statement'), [Tree(Token('RULE', 'procedure_call'), [Tree(Token('RULE', 'id'), [Token('IDENTIFIER_TOKEN', 'read')]), Tree(Token('RULE', 'expression_list'), [Tree(Token('RULE', 'expression_list'), [Tree(Token('RULE', 'expression'), [Tree(Token('RULE', 'simple_expression'), [Tree(Token('RULE', 'term'), [Tree(Token('RULE', 'factor'), [Tree(Token('RULE', 'variable'), [Tree(Token('RULE', 'id'), [Token('IDENTIFIER_TOKEN', 'x')]), Tree(Token('RULE', 'id_varpart'), [Tree(Token('RULE', 'empty'), [])])])])])])])]), Tree(Token('RULE', 'expression'), [Tree(Token('RULE', 'simple_expression'), [Tree(Token('RULE', 'term'), [Tree(Token('RULE', 'factor'), [Tree(Token('RULE', 'variable'), [Tree(Token('RULE', 'id'), [Token('IDENTIFIER_TOKEN', 'y')]), Tree(Token('RULE', 'id_varpart'), [Tree(Token('RULE', 'empty'), [])])])])])])])])])])]), Tree(Token('RULE', 'statement'), [Tree(Token('RULE', 'procedure_call'), [Tree(Token('RULE', 'id'), [Token('IDENTIFIER_TOKEN', 'write')]), Tree(Token('RULE', 'expression_list'), [Tree(Token('RULE', 'expression'), [Tree(Token('RULE', 'simple_expression'), [Tree(Token('RULE', 'term'), [Tree(Token('RULE', 'factor'), [Tree(Token('RULE', 'func_id'), [Tree(Token('RULE', 'id'), [Token('IDENTIFIER_TOKEN', 'gcd')])]), Tree(Token('RULE', 'expression_list'), [Tree(Token('RULE', 'expression_list'), [Tree(Token('RULE', 'expression'), [Tree(Token('RULE', 'simple_expression'), [Tree(Token('RULE', 'term'), [Tree(Token('RULE', 'factor'), [Tree(Token('RULE', 'variable'), [Tree(Token('RULE', 'id'), [Token('IDENTIFIER_TOKEN', 'x')]), Tree(Token('RULE', 'id_varpart'), [Tree(Token('RULE', 'empty'), [])])])])])])])]), Tree(Token('RULE', 'expression'), [Tree(Token('RULE', 'simple_expression'), [Tree(Token('RULE', 'term'), [Tree(Token('RULE', 'factor'), [Tree(Token('RULE', 'variable'), [Tree(Token('RULE', 'id'), [Token('IDENTIFIER_TOKEN', 'y')]), Tree(Token('RULE', 'id_varpart'), [Tree(Token('RULE', 'empty'), [])])])])])])])])])])])])])])])]), Tree(Token('RULE', 'statement'), [Tree(Token('RULE', 'empty'), [])])])])])\n"
     ]
    }
   ],
   "source": [
    "for child in tree.children:\n",
    "    print(child)"
   ]
  },
  {
   "cell_type": "code",
   "execution_count": null,
   "id": "47618cde",
   "metadata": {},
   "outputs": [],
   "source": []
  }
 ],
 "metadata": {
  "kernelspec": {
   "display_name": "Python 3",
   "language": "python",
   "name": "python3"
  },
  "language_info": {
   "codemirror_mode": {
    "name": "ipython",
    "version": 3
   },
   "file_extension": ".py",
   "mimetype": "text/x-python",
   "name": "python",
   "nbconvert_exporter": "python",
   "pygments_lexer": "ipython3",
   "version": "3.11.6"
  }
 },
 "nbformat": 4,
 "nbformat_minor": 5
}
