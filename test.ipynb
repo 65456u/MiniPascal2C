{
 "cells": [
  {
   "cell_type": "code",
   "id": "initial_id",
   "metadata": {
    "collapsed": true,
    "ExecuteTime": {
     "end_time": "2024-05-09T03:15:59.514745Z",
     "start_time": "2024-05-09T03:15:59.412323Z"
    }
   },
   "source": [
    "import lark"
   ],
   "outputs": [],
   "execution_count": 1
  },
  {
   "cell_type": "code",
   "id": "0c020768",
   "metadata": {
    "ExecuteTime": {
     "end_time": "2024-05-09T03:15:59.528649Z",
     "start_time": "2024-05-09T03:15:59.518762Z"
    }
   },
   "source": [
    "type_map = {\"integer\": \"int\", \"real\": \"float\", \"boolean\": \"bool\", \"char\": \"char\"}\n",
    "relop_map = {\"=\": \"==\", \"<>\": \"!=\", \"<\": \"<\", \"<=\": \"<=\", \">\": \">\", \">=\": \">=\"}\n",
    "addop_map = {\"+\": \"+\", \"-\": \"-\", \"or\": \"||\"}\n",
    "mulop_map = {\"*\": \"*\", \"/\": \"/\", \"div\": \"/\", \"mod\": \"%\", \"and\": \"&&\"}\n",
    "assignop_map = {\":=\": \"=\"}\n",
    "uminus_map = {\"-\": \"-\"}"
   ],
   "outputs": [],
   "execution_count": 2
  },
  {
   "cell_type": "code",
   "id": "b0e4cfb9daa6d2f6",
   "metadata": {
    "ExecuteTime": {
     "end_time": "2024-05-09T03:15:59.577910Z",
     "start_time": "2024-05-09T03:15:59.531667Z"
    }
   },
   "source": [
    "test_rule = r\"\"\"\n",
    "id                     : IDENTIFIER_TOKEN\n",
    "IDENTIFIER_TOKEN : /[a-zA-Z_][a-zA-Z0-9_]*/\n",
    "\"\"\"\n",
    "type_map = {\n",
    "    \"integer\": \"int\",\n",
    "    \"real\": \"float\",\n",
    "    \"boolean\": \"bool\",\n",
    "    \"char\": \"char\"\n",
    "}\n",
    "parser = lark.Lark(test_rule, start=\"id\")\n",
    "test_str = \"hello\"\n",
    "tree = parser.parse(test_str)"
   ],
   "outputs": [],
   "execution_count": 3
  },
  {
   "cell_type": "code",
   "id": "c1b93497c70bfa12",
   "metadata": {
    "ExecuteTime": {
     "end_time": "2024-05-09T03:15:59.587652Z",
     "start_time": "2024-05-09T03:15:59.581108Z"
    }
   },
   "source": [
    "def visit_id(self, node):\n",
    "    return [node.children[0].value]"
   ],
   "outputs": [],
   "execution_count": 4
  },
  {
   "cell_type": "code",
   "id": "3d41437c",
   "metadata": {
    "ExecuteTime": {
     "end_time": "2024-05-09T03:15:59.598008Z",
     "start_time": "2024-05-09T03:15:59.590710Z"
    }
   },
   "source": [
    "def visit_num(node):\n",
    "    tokens = []\n",
    "    tokens.append(node.children[0].value)\n",
    "    return tokens"
   ],
   "outputs": [],
   "execution_count": 5
  },
  {
   "cell_type": "code",
   "id": "e8cec3e7",
   "metadata": {
    "ExecuteTime": {
     "end_time": "2024-05-09T03:15:59.710297Z",
     "start_time": "2024-05-09T03:15:59.627631Z"
    }
   },
   "source": [
    "test_code = \"214.4\"\n",
    "with open(\"mp2c/MiniPascal.lark\") as f:\n",
    "    grammar = f.read()\n",
    "parser = lark.Lark(grammar, start=\"num\")"
   ],
   "outputs": [],
   "execution_count": 6
  },
  {
   "cell_type": "code",
   "id": "f60ffcb9",
   "metadata": {
    "ExecuteTime": {
     "end_time": "2024-05-09T03:15:59.766013Z",
     "start_time": "2024-05-09T03:15:59.742249Z"
    }
   },
   "source": [
    "parser.parse(test_code)\n",
    "\n",
    "\n",
    "def visit_optional_fraction(node):\n",
    "    return node.children[0].value\n",
    "\n",
    "\n",
    "def visit_num(node):\n",
    "    tokens = []\n",
    "    for child in node.children:\n",
    "        # check if the child is a token\n",
    "        if isinstance(child, lark.lexer.Token):\n",
    "            tokens.append(child.value)\n",
    "        elif child.data == \"optional_fraction\":\n",
    "            optional_fraction_part = visit_optional_fraction(child)\n",
    "            tokens[-1] += \".\"\n",
    "            tokens[-1] += optional_fraction_part\n",
    "\n",
    "    return tokens\n",
    "\n",
    "\n",
    "visit_num(parser.parse(test_code))"
   ],
   "outputs": [
    {
     "data": {
      "text/plain": [
       "['214.4']"
      ]
     },
     "execution_count": 7,
     "metadata": {},
     "output_type": "execute_result"
    }
   ],
   "execution_count": 7
  },
  {
   "cell_type": "code",
   "id": "a6668761",
   "metadata": {
    "ExecuteTime": {
     "end_time": "2024-05-09T03:15:59.963088Z",
     "start_time": "2024-05-09T03:15:59.868439Z"
    }
   },
   "source": [
    "def visit_period(node):\n",
    "    periods = []\n",
    "    current_period = []\n",
    "    for children in node.children:\n",
    "        if isinstance(children, lark.lexer.Token):\n",
    "            current_period.append(int(children.value))\n",
    "        elif children.data == \"period\":\n",
    "            current_period = visit_period(children)\n",
    "            periods.append(current_period)\n",
    "            current_period = []\n",
    "    periods.append(current_period)\n",
    "    return periods\n",
    "\n",
    "\n",
    "parser = lark.Lark(grammar, start=\"period\")\n",
    "test_code = \"1..2,4..5\"\n",
    "visit_period(parser.parse(test_code))"
   ],
   "outputs": [
    {
     "data": {
      "text/plain": [
       "[[[1, 2]], [4, 5]]"
      ]
     },
     "execution_count": 8,
     "metadata": {},
     "output_type": "execute_result"
    }
   ],
   "execution_count": 8
  },
  {
   "cell_type": "code",
   "id": "06f36f2e",
   "metadata": {
    "ExecuteTime": {
     "end_time": "2024-05-09T03:16:00.055521Z",
     "start_time": "2024-05-09T03:15:59.966115Z"
    }
   },
   "source": [
    "def visit_basic_type(node):\n",
    "    return node.children[0].value\n",
    "\n",
    "\n",
    "parser = lark.Lark(grammar, start=\"basic_type\")\n",
    "test_code = \"integer\"\n",
    "visit_basic_type(parser.parse(test_code))"
   ],
   "outputs": [
    {
     "data": {
      "text/plain": [
       "'integer'"
      ]
     },
     "execution_count": 9,
     "metadata": {},
     "output_type": "execute_result"
    }
   ],
   "execution_count": 9
  },
  {
   "cell_type": "code",
   "id": "6fde851a",
   "metadata": {
    "ExecuteTime": {
     "end_time": "2024-05-09T03:16:00.147349Z",
     "start_time": "2024-05-09T03:16:00.058914Z"
    }
   },
   "source": [
    "def visit_id(node):\n",
    "    return node.children[0].value\n",
    "\n",
    "\n",
    "def visit_idlist(node):\n",
    "    ids = []\n",
    "    for child in node.children:\n",
    "        if child.data == \"id\":\n",
    "            ids.append(visit_id(child))\n",
    "        elif child.data == \"idlist\":\n",
    "            ids.extend(visit_idlist(child))\n",
    "    return ids\n",
    "\n",
    "\n",
    "parser = lark.Lark(grammar, start=\"idlist\")\n",
    "test_code = \"a,b,c\"\n",
    "visit_idlist(parser.parse(test_code))"
   ],
   "outputs": [
    {
     "data": {
      "text/plain": [
       "['a', 'b', 'c']"
      ]
     },
     "execution_count": 10,
     "metadata": {},
     "output_type": "execute_result"
    }
   ],
   "execution_count": 10
  },
  {
   "cell_type": "code",
   "id": "d06aaae5",
   "metadata": {
    "ExecuteTime": {
     "end_time": "2024-05-09T03:16:00.278284Z",
     "start_time": "2024-05-09T03:16:00.151393Z"
    }
   },
   "source": [
    "def visit_basic_type(node):\n",
    "    return type_map[node.children[0].value]\n",
    "\n",
    "\n",
    "def visit_type(node):\n",
    "    type = {\"basic_type\": None, \"is_array\": False, \"period\": None}\n",
    "    for child in node.children:\n",
    "        if child.data == \"basic_type\":\n",
    "            type[\"basic_type\"] = visit_basic_type(child)\n",
    "        elif child.data == \"period\":\n",
    "            type[\"period\"] = visit_period(child)\n",
    "            type[\"is_array\"] = True\n",
    "    return type\n",
    "\n",
    "\n",
    "def visit_period(node):\n",
    "    periods = []\n",
    "    current_period = []\n",
    "    for children in node.children:\n",
    "        if isinstance(children, lark.lexer.Token):\n",
    "            current_period.append(int(children.value))\n",
    "        elif children.data == \"period\":\n",
    "            current_period = visit_period(children)\n",
    "            periods.append(current_period)\n",
    "            current_period = []\n",
    "    periods.append(current_period)\n",
    "    return periods\n",
    "\n",
    "\n",
    "parser = lark.Lark(grammar, start=\"type\")\n",
    "test_code = \"array [1..2] of integer\"\n",
    "visit_type(parser.parse(test_code))"
   ],
   "outputs": [
    {
     "data": {
      "text/plain": [
       "{'basic_type': 'int', 'is_array': True, 'period': [[1, 2]]}"
      ]
     },
     "execution_count": 11,
     "metadata": {},
     "output_type": "execute_result"
    }
   ],
   "execution_count": 11
  },
  {
   "cell_type": "code",
   "id": "57557ee7",
   "metadata": {
    "ExecuteTime": {
     "end_time": "2024-05-09T03:16:00.445318Z",
     "start_time": "2024-05-09T03:16:00.281563Z"
    }
   },
   "source": [
    "def visit_value_parameter(node):\n",
    "    ids = []\n",
    "    type = None\n",
    "    for child in node.children:\n",
    "        if child.data == \"idlist\":\n",
    "            ids = visit_idlist(child)\n",
    "        elif child.data == \"basic_type\":\n",
    "            type = visit_basic_type(child)\n",
    "    return {\"ids\": ids, \"type\": type}\n",
    "\n",
    "\n",
    "def visit_var_parameter(node):\n",
    "    tokens = []\n",
    "    value_parameter = visit_value_parameter(node.children[0])\n",
    "    tokens.append(value_parameter[\"type\"])\n",
    "    first = True\n",
    "    for id in value_parameter[\"ids\"]:\n",
    "        if first:\n",
    "            tokens.append(id)\n",
    "            first = False\n",
    "        else:\n",
    "            tokens.append(\",\")\n",
    "            tokens.append(id)\n",
    "    tokens.append(\";\")\n",
    "    return tokens\n",
    "\n",
    "\n",
    "parser = lark.Lark(grammar, start=\"var_parameter\")\n",
    "test_code = \"var a,b:integer\"\n",
    "tokens_list = visit_var_parameter(parser.parse(test_code))\n",
    "\"   \".join(tokens_list)"
   ],
   "outputs": [
    {
     "data": {
      "text/plain": [
       "'int   a   ,   b   ;'"
      ]
     },
     "execution_count": 12,
     "metadata": {},
     "output_type": "execute_result"
    }
   ],
   "execution_count": 12
  },
  {
   "cell_type": "code",
   "id": "29945fc9c2639046",
   "metadata": {
    "ExecuteTime": {
     "end_time": "2024-05-09T03:16:00.560521Z",
     "start_time": "2024-05-09T03:16:00.448836Z"
    }
   },
   "source": [
    "type_map = {\n",
    "    \"integer\": \"int\",\n",
    "    \"real\": \"float\",\n",
    "    \"boolean\": \"bool\",\n",
    "    \"char\": \"char\"\n",
    "}\n",
    "\n",
    "\n",
    "def visit_parameter(node):\n",
    "    tokens = []\n",
    "    for child in node.children:\n",
    "        if child.data == \"var_parameter\":\n",
    "            return visit_var_parameter(child)\n",
    "        elif child.data == \"value_parameter\":\n",
    "            value_parameter = visit_value_parameter(child)\n",
    "            tokens.append(value_parameter[\"type\"])\n",
    "            first = True\n",
    "            for id in value_parameter[\"ids\"]:\n",
    "                if first:\n",
    "                    tokens.append(id)\n",
    "                    first = False\n",
    "                else:\n",
    "                    tokens.append(\",\")\n",
    "                    tokens.append(id)\n",
    "    return tokens\n",
    "\n",
    "\n",
    "def visit_value_parameter(node):\n",
    "    ids = []\n",
    "    type = None\n",
    "    for child in node.children:\n",
    "        if child.data == \"idlist\":\n",
    "            ids = visit_idlist(child)\n",
    "        elif child.data == \"basic_type\":\n",
    "            type = visit_basic_type(child)\n",
    "    return {\"ids\": ids, \"type\": type}\n",
    "\n",
    "\n",
    "def visit_var_parameter(node):\n",
    "    tokens = []\n",
    "    value_parameter = visit_value_parameter(node.children[0])\n",
    "    first = True\n",
    "    for id in value_parameter[\"ids\"]:\n",
    "        if first:\n",
    "            first = False\n",
    "        else:\n",
    "            tokens.append(\",\")\n",
    "        tokens.append(value_parameter[\"type\"])\n",
    "        tokens.append(id)\n",
    "    return tokens\n",
    "\n",
    "\n",
    "def visit_parameter_list(node):\n",
    "    tokens = []\n",
    "    first = True\n",
    "    for child in node.children:\n",
    "        assert child.data == \"parameter\"\n",
    "        if first:\n",
    "            first = False\n",
    "        else:\n",
    "            tokens.append(\",\")\n",
    "        tokens.extend(visit_parameter(child))\n",
    "    return tokens\n",
    "\n",
    "\n",
    "parser = lark.Lark(grammar, start=\"parameter_list\")\n",
    "test_code = \"var a,b:integer; c:real\"\n",
    "visit_parameter_list(parser.parse(test_code))"
   ],
   "outputs": [
    {
     "data": {
      "text/plain": [
       "['int', 'a', ',', 'int', 'b', ',', 'float', 'c']"
      ]
     },
     "execution_count": 13,
     "metadata": {},
     "output_type": "execute_result"
    }
   ],
   "execution_count": 13
  },
  {
   "cell_type": "code",
   "id": "700aa5cec58380c1",
   "metadata": {
    "ExecuteTime": {
     "end_time": "2024-05-09T03:16:00.677493Z",
     "start_time": "2024-05-09T03:16:00.565537Z"
    }
   },
   "source": [
    "def visit_formal_parameter(node):\n",
    "    tokens = []\n",
    "    tokens.append(\"(\")\n",
    "    parameter_list = visit_parameter_list(node.children[0])\n",
    "    tokens.extend(parameter_list)\n",
    "    tokens.append(\")\")\n",
    "    return tokens\n",
    "\n",
    "\n",
    "parser = lark.Lark(grammar, start=\"formal_parameter\")\n",
    "test_code = \"(var a,b:integer; c:real)\"\n",
    "tokens = visit_formal_parameter(parser.parse(test_code))\n",
    "for token in tokens:\n",
    "    print(token)"
   ],
   "outputs": [
    {
     "name": "stdout",
     "output_type": "stream",
     "text": [
      "(\n",
      "int\n",
      "a\n",
      ",\n",
      "int\n",
      "b\n",
      ",\n",
      "float\n",
      "c\n",
      ")\n"
     ]
    }
   ],
   "execution_count": 14
  },
  {
   "cell_type": "code",
   "id": "3bd58f2e",
   "metadata": {
    "ExecuteTime": {
     "end_time": "2024-05-09T03:16:00.784389Z",
     "start_time": "2024-05-09T03:16:00.681598Z"
    }
   },
   "source": [
    "def visit_subprogram_head(node):\n",
    "    tokens = []\n",
    "    basic_type = None\n",
    "    id = None\n",
    "    formal_parameter = None\n",
    "    for child in node.children:\n",
    "        if child.data == \"basic_type\":\n",
    "            basic_type = visit_basic_type(child)\n",
    "        elif child.data == \"id\":\n",
    "            id = visit_id(child)\n",
    "        elif child.data == \"formal_parameter\":\n",
    "            formal_parameter = visit_formal_parameter(child)\n",
    "    if basic_type:\n",
    "        tokens.append(basic_type)\n",
    "    else:\n",
    "        tokens.append(\"void\")\n",
    "    tokens.append(id)\n",
    "    tokens.extend(formal_parameter)\n",
    "    return tokens\n",
    "\n",
    "\n",
    "parser = lark.Lark(grammar, start=\"subprogram_head\")\n",
    "test_code = \"function f(var a,b:integer; c:real):integer\"\n",
    "tokens = visit_subprogram_head(parser.parse(test_code))\n",
    "for token in tokens:\n",
    "    print(token)\n",
    "\n"
   ],
   "outputs": [
    {
     "name": "stdout",
     "output_type": "stream",
     "text": [
      "int\n",
      "f\n",
      "(\n",
      "int\n",
      "a\n",
      ",\n",
      "int\n",
      "b\n",
      ",\n",
      "float\n",
      "c\n",
      ")\n"
     ]
    }
   ],
   "execution_count": 15
  },
  {
   "cell_type": "code",
   "id": "ddf34225",
   "metadata": {
    "ExecuteTime": {
     "end_time": "2024-05-09T03:16:00.913102Z",
     "start_time": "2024-05-09T03:16:00.786864Z"
    }
   },
   "source": [
    "def visit_id_varpart(node):\n",
    "    tokens = []\n",
    "    for child in node.children:\n",
    "        if child.data == \"empty\":\n",
    "            return tokens\n",
    "        elif child.data == \"expression_list\":\n",
    "            tokens.append(\"[\")\n",
    "            expression_list = visit_expression_list(child)\n",
    "            tokens.extend(expression_list)\n",
    "            tokens.append(\"]\")\n",
    "    return tokens\n",
    "\n",
    "\n",
    "def visit_variable(node):\n",
    "    tokens = []\n",
    "    for child in node.children:\n",
    "        if child.data == \"id\":\n",
    "            tokens.append(visit_id(child))\n",
    "        elif child.data == \"expression\":\n",
    "            tokens.append(\"[\")\n",
    "            expression_tokens = visit_expression(child)\n",
    "            tokens.extend(expression_tokens)\n",
    "            tokens.append(\"]\")\n",
    "    return tokens\n",
    "\n",
    "\n",
    "def visit_variable_list(node):\n",
    "    tokens = []\n",
    "    first = True\n",
    "    for child in node.children:\n",
    "        if first:\n",
    "            first = False\n",
    "        else:\n",
    "            tokens.append(\",\")\n",
    "        tokens.extend(visit_variable(child))\n",
    "    return tokens\n",
    "\n",
    "\n",
    "def visit_func_id(node):\n",
    "    tokens = []\n",
    "    for child in node.children:\n",
    "        id = visit_id(child)\n",
    "    return tokens\n",
    "\n",
    "\n",
    "def visit_factor(node):\n",
    "    tokens = []\n",
    "    for child in node.children:\n",
    "        if isinstance(child, lark.lexer.Token):\n",
    "            token_type = child.type\n",
    "            token_value = child.value\n",
    "            if token_type == \"NOT\":\n",
    "                tokens.append(\"!\")\n",
    "            elif token_type == \"UMINUS\":\n",
    "                tokens.append(uminus_map[token_value])\n",
    "        elif child.data == \"num\":\n",
    "            num_token = visit_num(child)\n",
    "            tokens.extend(num_token)\n",
    "        elif child.data == \"id\":\n",
    "            id_token = visit_id(child)\n",
    "            tokens.extend(id_token)\n",
    "        elif child.data == \"expression\":\n",
    "            tokens.append(\"(\")\n",
    "            expression_token = visit_expression(child)\n",
    "            tokens.extend(expression_token)\n",
    "            tokens.append(\")\")\n",
    "        elif child.data == \"factor\":\n",
    "            factor_token = visit_factor(child)\n",
    "            tokens.extend(factor_token)\n",
    "        elif child.data == \"func_id\":\n",
    "            func_id_token = visit_func_id(child)\n",
    "            tokens.extend(func_id_token)\n",
    "        elif child.data == \"expression_list\":\n",
    "            tokens.append(\"(\")\n",
    "            expression_list_token = visit_expression_list(child)\n",
    "            tokens.extend(expression_list_token)\n",
    "            tokens.append(\")\")\n",
    "        elif child.data == \"variable\":\n",
    "            variable_token = visit_variable(child)\n",
    "            tokens.extend(variable_token)\n",
    "        else:\n",
    "            raise Exception(\"Unknown factor child data: {}\".format(child.data))\n",
    "    return tokens\n",
    "\n",
    "\n",
    "def visit_term(node):\n",
    "    tokens = []\n",
    "    for child in node.children:\n",
    "        if isinstance(child, lark.lexer.Token):\n",
    "            tokens.append(mulop_map[child.value])\n",
    "        elif child.data == \"factor\":\n",
    "            factor_token = visit_factor(child)\n",
    "            tokens.extend(factor_token)\n",
    "        elif child.data == \"term\":\n",
    "            term_token = visit_term(child)\n",
    "            tokens.extend(term_token)\n",
    "    return tokens\n",
    "\n",
    "\n",
    "def visit_simple_expression(node):\n",
    "    tokens = []\n",
    "    for child in node.children:\n",
    "        if isinstance(child, lark.lexer.Token):\n",
    "            tokens.append(addop_map[child.value])\n",
    "        elif child.data == \"term\":\n",
    "            term_token = visit_term(child)\n",
    "            tokens.extend(term_token)\n",
    "        elif child.data == \"simple_expression\":\n",
    "            simple_expression_token = visit_simple_expression(child)\n",
    "            tokens.extend(simple_expression_token)\n",
    "    return tokens\n",
    "\n",
    "\n",
    "def visit_expression(node):\n",
    "    tokens = []\n",
    "    for child in node.children:\n",
    "        if isinstance(child, lark.lexer.Token):\n",
    "            tokens.append(relop_map[child.value])\n",
    "        elif child.data == \"simple_expression\":\n",
    "            simple_expression_token = visit_simple_expression(child)\n",
    "            tokens.extend(simple_expression_token)\n",
    "        elif child.data == \"expression\":\n",
    "            expression_token = visit_expression(child)\n",
    "            tokens.extend(expression_token)\n",
    "        else:\n",
    "            raise Exception(\"Unknown expression child data: {}\".format(child.data))\n",
    "    return tokens\n",
    "\n",
    "\n",
    "def visit_expression_list(node):\n",
    "    tokens = []\n",
    "    first = True\n",
    "    for child in node.children:\n",
    "        if first:\n",
    "            first = False\n",
    "        else:\n",
    "            tokens.append(\",\")\n",
    "        expression_tokens = visit_expression(child)\n",
    "        tokens.extend(expression_tokens)\n",
    "    return tokens\n",
    "\n",
    "\n",
    "parser = lark.Lark(grammar, start=\"expression_list\")\n",
    "test_code = \"1<2,3>4\"\n",
    "tokens = visit_expression_list(parser.parse(test_code))\n",
    "for token in tokens:\n",
    "    print(token)"
   ],
   "outputs": [
    {
     "name": "stdout",
     "output_type": "stream",
     "text": [
      "1\n",
      "<\n",
      "2\n",
      ",\n",
      "3\n",
      ">\n",
      "4\n"
     ]
    }
   ],
   "execution_count": 16
  },
  {
   "cell_type": "code",
   "id": "a4257c72",
   "metadata": {
    "ExecuteTime": {
     "end_time": "2024-05-09T03:16:01.032961Z",
     "start_time": "2024-05-09T03:16:00.916687Z"
    }
   },
   "source": [
    "def visit_assign_statement(node):\n",
    "    tokens = []\n",
    "    for child in node.children:\n",
    "        if isinstance(child, lark.lexer.Token):\n",
    "            tokens.append(assignop_map[child.value])\n",
    "        elif child.data == \"expression\":\n",
    "            expression_tokens = visit_expression(child)\n",
    "            tokens.extend(expression_tokens)\n",
    "        elif child.data == \"variable\":\n",
    "            variable_tokens = visit_variable(child)\n",
    "            tokens.extend(variable_tokens)\n",
    "        else:\n",
    "            raise Exception(\n",
    "                \"Unknown assignment_statement child data: {}\".format(child.data)\n",
    "            )\n",
    "    return tokens\n",
    "\n",
    "\n",
    "def visit_if_else_statement(node):\n",
    "    tokens = []\n",
    "    for child in node.children:\n",
    "        if child.data == \"expression\":\n",
    "            tokens.append(\"if\")\n",
    "            tokens.append(\"(\")\n",
    "            expression_tokens = visit_expression(child)\n",
    "            tokens.extend(expression_tokens)\n",
    "            tokens.append(\")\")\n",
    "        elif child.data == \"statement\":\n",
    "            tokens.append(\"{\")\n",
    "            statement_tokens = visit_statement(child)\n",
    "            tokens.extend(statement_tokens)\n",
    "            tokens.append(\"}\")\n",
    "        elif child.data == \"else_part\":\n",
    "            tokens.apend(\"{\")\n",
    "            else_part_tokens = visit_else_part(child)\n",
    "            tokens.extend(else_part_tokens)\n",
    "            tokens.append(\"}\")\n",
    "        else:\n",
    "            raise Exception(\n",
    "                \"Unknown if_else_statement child data: {}\".format(child.data)\n",
    "            )\n",
    "    return tokens\n",
    "\n",
    "\n",
    "def visit_else_part(node):\n",
    "    tokens = []\n",
    "    for child in node.children:\n",
    "        if child.data == \"empyt\":\n",
    "            return tokens\n",
    "        elif child.data == \"statement\":\n",
    "            tokens.append(\"else\")\n",
    "            tokens.append(\"{\")\n",
    "            statement_tokens = visit_statement(child)\n",
    "            tokens.extend(statement_tokens)\n",
    "            tokens.append(\"}\")\n",
    "        else:\n",
    "            raise Exception(\"Unknown else_part child data: {}\".format(child.data))\n",
    "    return tokens\n",
    "\n",
    "\n",
    "def visit_procedure_call(node):\n",
    "    tokens = []\n",
    "    for child in node.children:\n",
    "        if child.data == \"id\":\n",
    "            tokens.append(visit_id(child))\n",
    "        elif child.data == \"expression_list\":\n",
    "            tokens.append(\"(\")\n",
    "            expression_list_tokens = visit_expression_list(child)\n",
    "            tokens.extend(expression_list_tokens)\n",
    "            tokens.append(\")\")\n",
    "        else:\n",
    "            raise Exception(\"Unknown procedure_call child data: {}\".format(child.data))\n",
    "    return tokens\n",
    "\n",
    "\n",
    "def visit_statement_list(node):\n",
    "    tokens = []\n",
    "    for child in node.children:\n",
    "        assert child.data == \"statement\"\n",
    "        statement_tokens = visit_statement(child)\n",
    "        tokens.extend(statement_tokens)\n",
    "        tokens.append(\";\")\n",
    "    return tokens\n",
    "\n",
    "\n",
    "def visit_compound_statement(node):\n",
    "    tokens = []\n",
    "    tokens.append(\"{\")\n",
    "    assert node.children[0].data == \"statement_list\"\n",
    "    statement_list_tokens = visit_statement_list(node.children[0])\n",
    "    tokens.extend(statement_list_tokens)\n",
    "\n",
    "    tokens.append(\"}\")\n",
    "    return tokens\n",
    "\n",
    "\n",
    "def visit_statement(node):\n",
    "    tokens = []\n",
    "    for child in node.children:\n",
    "        if child.data == \"assign_statement\":\n",
    "            assign_statement_tokens = visit_assign_statement(child)\n",
    "            tokens.extend(assign_statement_tokens)\n",
    "        elif child.data == \"if_else_statement\":\n",
    "            if_else_statement_tokens = visit_if_else_statement(child)\n",
    "            tokens.extend(if_else_statement_tokens)\n",
    "        elif child.data == \"procedure_call\":\n",
    "            procedure_call_tokens = visit_procedure_call(child)\n",
    "            tokens.extend(procedure_call_tokens)\n",
    "        elif child.data == \"compound_statement\":\n",
    "            compound_statement_tokens = visit_compound_statement(child)\n",
    "            tokens.extend(compound_statement_tokens)\n",
    "        else:\n",
    "            raise Exception(\"Unknown statement child data: {}\".format(child.data))\n",
    "    return tokens\n",
    "\n",
    "\n",
    "parser = lark.Lark(grammar, start=\"statement\")\n",
    "test_code = \"begin a:=1; b:=2 end\"\n",
    "tokens = visit_statement(parser.parse(test_code))"
   ],
   "outputs": [],
   "execution_count": 17
  },
  {
   "cell_type": "code",
   "id": "d32b0ad1",
   "metadata": {
    "ExecuteTime": {
     "end_time": "2024-05-09T03:16:01.144604Z",
     "start_time": "2024-05-09T03:16:01.035975Z"
    }
   },
   "source": [
    "def visit_const_value(node):\n",
    "    tokens = []\n",
    "    for child in node.children:\n",
    "        if isinstance(child, lark.lexer.Token):\n",
    "            if child.type == \"PLUS\":\n",
    "                tokens.append(\"+\")\n",
    "            elif child.type == \"MINUS\":\n",
    "                tokens.append(\"-\")\n",
    "            elif child.type == \"LETTER\":\n",
    "                tokens.append(\"'\" + child.value + \"'\")\n",
    "            else:\n",
    "                raise Exception(\"Unknown const_value child type: {}\".format(child.type))\n",
    "\n",
    "        elif child.data == \"num\":\n",
    "            num_tokens = visit_num(child)\n",
    "            tokens.extend(num_tokens)\n",
    "        else:\n",
    "            raise Exception(\"Unknown const_value child data: {}\".format(child.data))\n",
    "\n",
    "    return tokens\n",
    "\n",
    "\n",
    "def visit_const_declaration(node):\n",
    "    tokens = []\n",
    "    for child in node.children:\n",
    "        if child.data == \"id\":\n",
    "            tokens.append(\"const\")\n",
    "            tokens.append(\"int\")\n",
    "            tokens.append(visit_id(child))\n",
    "        elif child.data == \"const_value\":\n",
    "            tokens.append(\"=\")\n",
    "            tokens.extend(visit_const_value(child))\n",
    "            tokens.append(\";\")\n",
    "        elif child.data == \"const_declaration\":\n",
    "            tokens.extend(visit_const_declaration(child))\n",
    "        else:\n",
    "            raise Exception(\n",
    "                \"Unknown const_declaration child data: {}\".format(child.data)\n",
    "            )\n",
    "    return tokens\n",
    "\n",
    "\n",
    "def visit_const_declarations(node):\n",
    "    tokens = []\n",
    "    for child in node.children:\n",
    "        if child.data == \"const_declaration\":\n",
    "            tokens.extend(visit_const_declaration(child))\n",
    "        elif child.data == \"empty\":\n",
    "            return tokens\n",
    "        else:\n",
    "            raise Exception(\n",
    "                \"Unknown const_declarations child data: {}\".format(child.data)\n",
    "            )\n",
    "    return tokens\n",
    "\n",
    "\n",
    "def visit_var_declaration(node):\n",
    "    tokens = []\n",
    "    idlist = []\n",
    "    id_type = None\n",
    "    for child in node.children:\n",
    "        if child.data == \"idlist\":\n",
    "            idlist = visit_idlist(child)\n",
    "        elif child.data == \"type\":\n",
    "            id_type = visit_type(child)\n",
    "        elif child.data == \"var_declaration\":\n",
    "            tokens.extend(visit_var_declaration(child))\n",
    "        else:\n",
    "            raise Exception(\"Unknown var_declaration child data: {}\".format(child.data))\n",
    "\n",
    "    for id in idlist:\n",
    "        tokens.append(id_type[\"basic_type\"])\n",
    "        tokens.append(id)\n",
    "        if id_type[\"is_array\"]:\n",
    "            for period in id_type[\"period\"]:\n",
    "                tokens.append(\"[\")\n",
    "                tokens.append(str(period[0]))\n",
    "                tokens.append(\"]\")\n",
    "                tokens.append(\"[\")\n",
    "                tokens.append(str(period[1]))\n",
    "                tokens.append(\"]\")\n",
    "        tokens.append(\";\")\n",
    "    return tokens\n",
    "\n",
    "\n",
    "def visit_var_declarations(node):\n",
    "    tokens = []\n",
    "    for child in node.children:\n",
    "        if child.data == \"var_declaration\":\n",
    "            tokens.extend(visit_var_declaration(child))\n",
    "        elif child.data == \"empty\":\n",
    "            return tokens\n",
    "        else:\n",
    "            raise Exception(\n",
    "                \"Unknown var_declarations child data: {}\".format(child.data)\n",
    "            )\n",
    "    return tokens\n",
    "\n",
    "\n",
    "parser = lark.Lark(grammar, start=\"const_declarations\")\n",
    "test_code = \"const a = 1; b = 2;\"\n",
    "tokens = visit_const_declarations(parser.parse(test_code))\n",
    "for token in tokens:\n",
    "    print(token)"
   ],
   "outputs": [
    {
     "name": "stdout",
     "output_type": "stream",
     "text": [
      "const\n",
      "int\n",
      "a\n",
      "=\n",
      "1\n",
      ";\n",
      "const\n",
      "int\n",
      "b\n",
      "=\n",
      "2\n",
      ";\n"
     ]
    }
   ],
   "execution_count": 18
  },
  {
   "cell_type": "code",
   "id": "5ad44565",
   "metadata": {
    "ExecuteTime": {
     "end_time": "2024-05-09T03:16:01.230228Z",
     "start_time": "2024-05-09T03:16:01.148622Z"
    }
   },
   "source": [
    "parser = lark.Lark(grammar, start=\"var_declarations\")\n",
    "test_code = \"var a:integer; b:real;\"\n",
    "tokens = visit_var_declarations(parser.parse(test_code))\n",
    "for token in tokens:\n",
    "    print(token)"
   ],
   "outputs": [
    {
     "name": "stdout",
     "output_type": "stream",
     "text": [
      "int\n",
      "a\n",
      ";\n",
      "float\n",
      "b\n",
      ";\n"
     ]
    }
   ],
   "execution_count": 19
  },
  {
   "cell_type": "code",
   "id": "75af8b75",
   "metadata": {
    "ExecuteTime": {
     "end_time": "2024-05-09T03:16:02.451479Z",
     "start_time": "2024-05-09T03:16:01.233264Z"
    }
   },
   "source": [
    "from mp2c import Converter\n",
    "\n",
    "parser = Converter()\n",
    "with open(\"example.pas\") as f:\n",
    "    code = f.read()\n",
    "tree, tokens, result_string = parser(code)"
   ],
   "outputs": [
    {
     "name": "stdout",
     "output_type": "stream",
     "text": [
      "{}\n"
     ]
    },
    {
     "ename": "Exception",
     "evalue": "Function not declared: gcd",
     "output_type": "error",
     "traceback": [
      "\u001B[1;31m---------------------------------------------------------------------------\u001B[0m",
      "\u001B[1;31mException\u001B[0m                                 Traceback (most recent call last)",
      "Cell \u001B[1;32mIn[20], line 6\u001B[0m\n\u001B[0;32m      4\u001B[0m \u001B[38;5;28;01mwith\u001B[39;00m \u001B[38;5;28mopen\u001B[39m(\u001B[38;5;124m\"\u001B[39m\u001B[38;5;124mexample.pas\u001B[39m\u001B[38;5;124m\"\u001B[39m) \u001B[38;5;28;01mas\u001B[39;00m f:\n\u001B[0;32m      5\u001B[0m     code \u001B[38;5;241m=\u001B[39m f\u001B[38;5;241m.\u001B[39mread()\n\u001B[1;32m----> 6\u001B[0m tree, tokens, result_string \u001B[38;5;241m=\u001B[39m \u001B[43mparser\u001B[49m\u001B[43m(\u001B[49m\u001B[43mcode\u001B[49m\u001B[43m)\u001B[49m\n",
      "File \u001B[1;32m~\\Desktop\\MiniPascal2C\\mp2c\\converter.py:20\u001B[0m, in \u001B[0;36mConverter.__call__\u001B[1;34m(self, code)\u001B[0m\n\u001B[0;32m     18\u001B[0m tree \u001B[38;5;241m=\u001B[39m parser\u001B[38;5;241m.\u001B[39mparse(code)\n\u001B[0;32m     19\u001B[0m context \u001B[38;5;241m=\u001B[39m Context()\n\u001B[1;32m---> 20\u001B[0m tokens \u001B[38;5;241m=\u001B[39m \u001B[43mvisit_programstruct\u001B[49m\u001B[43m(\u001B[49m\u001B[43mtree\u001B[49m\u001B[43m,\u001B[49m\u001B[43m \u001B[49m\u001B[43mcontext\u001B[49m\u001B[43m)\u001B[49m\n\u001B[0;32m     21\u001B[0m tokens \u001B[38;5;241m=\u001B[39m postprocess(tokens)\n\u001B[0;32m     22\u001B[0m result_string \u001B[38;5;241m=\u001B[39m \u001B[38;5;124m\"\u001B[39m\u001B[38;5;130;01m\\n\u001B[39;00m\u001B[38;5;124m\"\u001B[39m\u001B[38;5;241m.\u001B[39mjoin(tokens)\n",
      "File \u001B[1;32m~\\Desktop\\MiniPascal2C\\mp2c\\visitors.py:913\u001B[0m, in \u001B[0;36mvisit_programstruct\u001B[1;34m(node, context)\u001B[0m\n\u001B[0;32m    911\u001B[0m     program_head_tokens \u001B[38;5;241m=\u001B[39m visit_program_head(child, context)\n\u001B[0;32m    912\u001B[0m \u001B[38;5;28;01melif\u001B[39;00m child\u001B[38;5;241m.\u001B[39mdata \u001B[38;5;241m==\u001B[39m \u001B[38;5;124m\"\u001B[39m\u001B[38;5;124mprogram_body\u001B[39m\u001B[38;5;124m\"\u001B[39m:\n\u001B[1;32m--> 913\u001B[0m     program_body_tokens \u001B[38;5;241m=\u001B[39m \u001B[43mvisit_program_body\u001B[49m\u001B[43m(\u001B[49m\u001B[43mchild\u001B[49m\u001B[43m,\u001B[49m\u001B[43m \u001B[49m\u001B[43mcontext\u001B[49m\u001B[43m)\u001B[49m\n\u001B[0;32m    914\u001B[0m \u001B[38;5;28;01melse\u001B[39;00m:\n\u001B[0;32m    915\u001B[0m     \u001B[38;5;28;01mraise\u001B[39;00m \u001B[38;5;167;01mException\u001B[39;00m(\u001B[38;5;124m\"\u001B[39m\u001B[38;5;124mUnknown programstruct child data: \u001B[39m\u001B[38;5;132;01m{}\u001B[39;00m\u001B[38;5;124m\"\u001B[39m\u001B[38;5;241m.\u001B[39mformat(child\u001B[38;5;241m.\u001B[39mdata))\n",
      "File \u001B[1;32m~\\Desktop\\MiniPascal2C\\mp2c\\visitors.py:892\u001B[0m, in \u001B[0;36mvisit_program_body\u001B[1;34m(node, context)\u001B[0m\n\u001B[0;32m    890\u001B[0m     tokens\u001B[38;5;241m.\u001B[39mextend(visit_var_declarations(child, context))\n\u001B[0;32m    891\u001B[0m \u001B[38;5;28;01melif\u001B[39;00m child\u001B[38;5;241m.\u001B[39mdata \u001B[38;5;241m==\u001B[39m \u001B[38;5;124m\"\u001B[39m\u001B[38;5;124msubprogram_declarations\u001B[39m\u001B[38;5;124m\"\u001B[39m:\n\u001B[1;32m--> 892\u001B[0m     tokens\u001B[38;5;241m.\u001B[39mextend(\u001B[43mvisit_subprogram_declarations\u001B[49m\u001B[43m(\u001B[49m\u001B[43mchild\u001B[49m\u001B[43m,\u001B[49m\u001B[43m \u001B[49m\u001B[43mcontext\u001B[49m\u001B[43m)\u001B[49m)\n\u001B[0;32m    893\u001B[0m \u001B[38;5;28;01melif\u001B[39;00m child\u001B[38;5;241m.\u001B[39mdata \u001B[38;5;241m==\u001B[39m \u001B[38;5;124m\"\u001B[39m\u001B[38;5;124mcompound_statement\u001B[39m\u001B[38;5;124m\"\u001B[39m:\n\u001B[0;32m    894\u001B[0m     tokens\u001B[38;5;241m.\u001B[39mappend(\u001B[38;5;124m\"\u001B[39m\u001B[38;5;124mint main()\u001B[39m\u001B[38;5;124m\"\u001B[39m)\n",
      "File \u001B[1;32m~\\Desktop\\MiniPascal2C\\mp2c\\visitors.py:872\u001B[0m, in \u001B[0;36mvisit_subprogram_declarations\u001B[1;34m(node, context)\u001B[0m\n\u001B[0;32m    870\u001B[0m \u001B[38;5;28;01mfor\u001B[39;00m child \u001B[38;5;129;01min\u001B[39;00m node\u001B[38;5;241m.\u001B[39mchildren:\n\u001B[0;32m    871\u001B[0m     \u001B[38;5;28;01mif\u001B[39;00m child\u001B[38;5;241m.\u001B[39mdata \u001B[38;5;241m==\u001B[39m \u001B[38;5;124m\"\u001B[39m\u001B[38;5;124msubprogram\u001B[39m\u001B[38;5;124m\"\u001B[39m:\n\u001B[1;32m--> 872\u001B[0m         tokens\u001B[38;5;241m.\u001B[39mextend(\u001B[43mvisit_subprogram\u001B[49m\u001B[43m(\u001B[49m\u001B[43mchild\u001B[49m\u001B[43m,\u001B[49m\u001B[43m \u001B[49m\u001B[43mcontext\u001B[49m\u001B[43m)\u001B[49m)\n\u001B[0;32m    873\u001B[0m     \u001B[38;5;28;01melif\u001B[39;00m child\u001B[38;5;241m.\u001B[39mdata \u001B[38;5;241m==\u001B[39m \u001B[38;5;124m\"\u001B[39m\u001B[38;5;124msubprogram_declarations\u001B[39m\u001B[38;5;124m\"\u001B[39m:\n\u001B[0;32m    874\u001B[0m         tokens\u001B[38;5;241m.\u001B[39mextend(visit_subprogram_declarations(child, context))\n",
      "File \u001B[1;32m~\\Desktop\\MiniPascal2C\\mp2c\\visitors.py:849\u001B[0m, in \u001B[0;36mvisit_subprogram\u001B[1;34m(node, context)\u001B[0m\n\u001B[0;32m    847\u001B[0m     subprogram_head_tokens \u001B[38;5;241m=\u001B[39m visit_subprogram_head(child, context)\n\u001B[0;32m    848\u001B[0m \u001B[38;5;28;01melif\u001B[39;00m child\u001B[38;5;241m.\u001B[39mdata \u001B[38;5;241m==\u001B[39m \u001B[38;5;124m\"\u001B[39m\u001B[38;5;124msubprogram_body\u001B[39m\u001B[38;5;124m\"\u001B[39m:\n\u001B[1;32m--> 849\u001B[0m     subprogram_body_tokens \u001B[38;5;241m=\u001B[39m \u001B[43mvisit_subprogram_body\u001B[49m\u001B[43m(\u001B[49m\n\u001B[0;32m    850\u001B[0m \u001B[43m        \u001B[49m\u001B[43mchild\u001B[49m\u001B[43m,\u001B[49m\u001B[43m \u001B[49m\u001B[43mcontext\u001B[49m\u001B[43m,\u001B[49m\u001B[43m \u001B[49m\u001B[43msubprogram_head_tokens\u001B[49m\n\u001B[0;32m    851\u001B[0m \u001B[43m    \u001B[49m\u001B[43m)\u001B[49m\n\u001B[0;32m    852\u001B[0m \u001B[38;5;28;01melse\u001B[39;00m:\n\u001B[0;32m    853\u001B[0m     \u001B[38;5;28;01mraise\u001B[39;00m \u001B[38;5;167;01mException\u001B[39;00m(\u001B[38;5;124m\"\u001B[39m\u001B[38;5;124mUnknown subprogram child data: \u001B[39m\u001B[38;5;132;01m{}\u001B[39;00m\u001B[38;5;124m\"\u001B[39m\u001B[38;5;241m.\u001B[39mformat(child\u001B[38;5;241m.\u001B[39mdata))\n",
      "File \u001B[1;32m~\\Desktop\\MiniPascal2C\\mp2c\\visitors.py:834\u001B[0m, in \u001B[0;36mvisit_subprogram_body\u001B[1;34m(node, context, subprogram_head_tokens)\u001B[0m\n\u001B[0;32m    831\u001B[0m     tokens\u001B[38;5;241m.\u001B[39mextend(visit_var_declarations(child, context))\n\u001B[0;32m    832\u001B[0m \u001B[38;5;28;01melif\u001B[39;00m child\u001B[38;5;241m.\u001B[39mdata \u001B[38;5;241m==\u001B[39m \u001B[38;5;124m\"\u001B[39m\u001B[38;5;124mcompound_statement\u001B[39m\u001B[38;5;124m\"\u001B[39m:\n\u001B[0;32m    833\u001B[0m     \u001B[38;5;66;03m# compound_statement中如果遇到对func_name符号的引用且并非函数递归调用，则前面加一个_\u001B[39;00m\n\u001B[1;32m--> 834\u001B[0m     tokens\u001B[38;5;241m.\u001B[39mextend(\u001B[43mvisit_compound_statement\u001B[49m\u001B[43m(\u001B[49m\u001B[43mchild\u001B[49m\u001B[43m,\u001B[49m\u001B[43m \u001B[49m\u001B[43mcontext\u001B[49m\u001B[43m,\u001B[49m\u001B[43m \u001B[49m\u001B[43mfunc_name\u001B[49m\u001B[43m)\u001B[49m)\n\u001B[0;32m    835\u001B[0m \u001B[38;5;28;01melse\u001B[39;00m:\n\u001B[0;32m    836\u001B[0m     \u001B[38;5;28;01mraise\u001B[39;00m \u001B[38;5;167;01mException\u001B[39;00m(\u001B[38;5;124m\"\u001B[39m\u001B[38;5;124mUnknown subprogram_body child data: \u001B[39m\u001B[38;5;132;01m{}\u001B[39;00m\u001B[38;5;124m\"\u001B[39m\u001B[38;5;241m.\u001B[39mformat(child\u001B[38;5;241m.\u001B[39mdata))\n",
      "File \u001B[1;32m~\\Desktop\\MiniPascal2C\\mp2c\\visitors.py:594\u001B[0m, in \u001B[0;36mvisit_compound_statement\u001B[1;34m(node, context, func_name)\u001B[0m\n\u001B[0;32m    592\u001B[0m tokens \u001B[38;5;241m=\u001B[39m []\n\u001B[0;32m    593\u001B[0m \u001B[38;5;28;01massert\u001B[39;00m node\u001B[38;5;241m.\u001B[39mchildren[\u001B[38;5;241m0\u001B[39m]\u001B[38;5;241m.\u001B[39mdata \u001B[38;5;241m==\u001B[39m \u001B[38;5;124m\"\u001B[39m\u001B[38;5;124mstatement_list\u001B[39m\u001B[38;5;124m\"\u001B[39m\n\u001B[1;32m--> 594\u001B[0m statement_list_tokens \u001B[38;5;241m=\u001B[39m \u001B[43mvisit_statement_list\u001B[49m\u001B[43m(\u001B[49m\u001B[43mnode\u001B[49m\u001B[38;5;241;43m.\u001B[39;49m\u001B[43mchildren\u001B[49m\u001B[43m[\u001B[49m\u001B[38;5;241;43m0\u001B[39;49m\u001B[43m]\u001B[49m\u001B[43m,\u001B[49m\u001B[43m \u001B[49m\u001B[43mcontext\u001B[49m\u001B[43m,\u001B[49m\u001B[43m \u001B[49m\u001B[43mfunc_name\u001B[49m\u001B[43m)\u001B[49m\n\u001B[0;32m    595\u001B[0m tokens\u001B[38;5;241m.\u001B[39mextend(statement_list_tokens)\n\u001B[0;32m    596\u001B[0m \u001B[38;5;28;01mreturn\u001B[39;00m tokens\n",
      "File \u001B[1;32m~\\Desktop\\MiniPascal2C\\mp2c\\visitors.py:585\u001B[0m, in \u001B[0;36mvisit_statement_list\u001B[1;34m(node, context, func_name)\u001B[0m\n\u001B[0;32m    583\u001B[0m \u001B[38;5;28;01mfor\u001B[39;00m child \u001B[38;5;129;01min\u001B[39;00m node\u001B[38;5;241m.\u001B[39mchildren:\n\u001B[0;32m    584\u001B[0m     \u001B[38;5;28;01massert\u001B[39;00m child\u001B[38;5;241m.\u001B[39mdata \u001B[38;5;241m==\u001B[39m \u001B[38;5;124m\"\u001B[39m\u001B[38;5;124mstatement\u001B[39m\u001B[38;5;124m\"\u001B[39m\n\u001B[1;32m--> 585\u001B[0m     statement_tokens \u001B[38;5;241m=\u001B[39m \u001B[43mvisit_statement\u001B[49m\u001B[43m(\u001B[49m\u001B[43mchild\u001B[49m\u001B[43m,\u001B[49m\u001B[43m \u001B[49m\u001B[43mcontext\u001B[49m\u001B[43m,\u001B[49m\u001B[43m \u001B[49m\u001B[43mfunc_name\u001B[49m\u001B[43m)\u001B[49m\n\u001B[0;32m    586\u001B[0m     tokens\u001B[38;5;241m.\u001B[39mextend(statement_tokens)\n\u001B[0;32m    587\u001B[0m     tokens\u001B[38;5;241m.\u001B[39mappend(\u001B[38;5;124m\"\u001B[39m\u001B[38;5;124m;\u001B[39m\u001B[38;5;124m\"\u001B[39m)\n",
      "File \u001B[1;32m~\\Desktop\\MiniPascal2C\\mp2c\\visitors.py:666\u001B[0m, in \u001B[0;36mvisit_statement\u001B[1;34m(node, context, func_name)\u001B[0m\n\u001B[0;32m    664\u001B[0m     tokens\u001B[38;5;241m.\u001B[39mappend(\u001B[38;5;124m\"\u001B[39m\u001B[38;5;124m}\u001B[39m\u001B[38;5;124m\"\u001B[39m)\n\u001B[0;32m    665\u001B[0m \u001B[38;5;28;01melif\u001B[39;00m child\u001B[38;5;241m.\u001B[39mdata \u001B[38;5;241m==\u001B[39m \u001B[38;5;124m\"\u001B[39m\u001B[38;5;124mif_else_statement\u001B[39m\u001B[38;5;124m\"\u001B[39m:\n\u001B[1;32m--> 666\u001B[0m     if_else_statement_tokens \u001B[38;5;241m=\u001B[39m \u001B[43mvisit_if_else_statement\u001B[49m\u001B[43m(\u001B[49m\n\u001B[0;32m    667\u001B[0m \u001B[43m        \u001B[49m\u001B[43mchild\u001B[49m\u001B[43m,\u001B[49m\u001B[43m \u001B[49m\u001B[43mcontext\u001B[49m\u001B[43m,\u001B[49m\u001B[43m \u001B[49m\u001B[43mfunc_name\u001B[49m\n\u001B[0;32m    668\u001B[0m \u001B[43m    \u001B[49m\u001B[43m)\u001B[49m\n\u001B[0;32m    669\u001B[0m     tokens\u001B[38;5;241m.\u001B[39mextend(if_else_statement_tokens)\n\u001B[0;32m    670\u001B[0m \u001B[38;5;28;01melif\u001B[39;00m child\u001B[38;5;241m.\u001B[39mdata \u001B[38;5;241m==\u001B[39m \u001B[38;5;124m\"\u001B[39m\u001B[38;5;124mfor_statement\u001B[39m\u001B[38;5;124m\"\u001B[39m:\n",
      "File \u001B[1;32m~\\Desktop\\MiniPascal2C\\mp2c\\visitors.py:451\u001B[0m, in \u001B[0;36mvisit_if_else_statement\u001B[1;34m(node, context, func_name)\u001B[0m\n\u001B[0;32m    449\u001B[0m     tokens\u001B[38;5;241m.\u001B[39mappend(\u001B[38;5;124m\"\u001B[39m\u001B[38;5;124m}\u001B[39m\u001B[38;5;124m\"\u001B[39m)\n\u001B[0;32m    450\u001B[0m \u001B[38;5;28;01melif\u001B[39;00m child\u001B[38;5;241m.\u001B[39mdata \u001B[38;5;241m==\u001B[39m \u001B[38;5;124m\"\u001B[39m\u001B[38;5;124melse_part\u001B[39m\u001B[38;5;124m\"\u001B[39m:\n\u001B[1;32m--> 451\u001B[0m     else_part_tokens \u001B[38;5;241m=\u001B[39m \u001B[43mvisit_else_part\u001B[49m\u001B[43m(\u001B[49m\u001B[43mchild\u001B[49m\u001B[43m,\u001B[49m\u001B[43m \u001B[49m\u001B[43mcontext\u001B[49m\u001B[43m,\u001B[49m\u001B[43m \u001B[49m\u001B[43mfunc_name\u001B[49m\u001B[43m)\u001B[49m\n\u001B[0;32m    452\u001B[0m     tokens\u001B[38;5;241m.\u001B[39mextend(else_part_tokens)\n\u001B[0;32m    453\u001B[0m \u001B[38;5;28;01melse\u001B[39;00m:\n",
      "File \u001B[1;32m~\\Desktop\\MiniPascal2C\\mp2c\\visitors.py:468\u001B[0m, in \u001B[0;36mvisit_else_part\u001B[1;34m(node, context, func_name)\u001B[0m\n\u001B[0;32m    466\u001B[0m tokens\u001B[38;5;241m.\u001B[39mappend(\u001B[38;5;124m\"\u001B[39m\u001B[38;5;124melse\u001B[39m\u001B[38;5;124m\"\u001B[39m)\n\u001B[0;32m    467\u001B[0m tokens\u001B[38;5;241m.\u001B[39mappend(\u001B[38;5;124m\"\u001B[39m\u001B[38;5;124m{\u001B[39m\u001B[38;5;124m\"\u001B[39m)\n\u001B[1;32m--> 468\u001B[0m statement_tokens \u001B[38;5;241m=\u001B[39m \u001B[43mvisit_statement\u001B[49m\u001B[43m(\u001B[49m\u001B[43mchild\u001B[49m\u001B[43m,\u001B[49m\u001B[43m \u001B[49m\u001B[43mcontext\u001B[49m\u001B[43m,\u001B[49m\u001B[43m \u001B[49m\u001B[43mfunc_name\u001B[49m\u001B[43m)\u001B[49m\n\u001B[0;32m    469\u001B[0m tokens\u001B[38;5;241m.\u001B[39mextend(statement_tokens)\n\u001B[0;32m    470\u001B[0m tokens\u001B[38;5;241m.\u001B[39mappend(\u001B[38;5;124m\"\u001B[39m\u001B[38;5;124m}\u001B[39m\u001B[38;5;124m\"\u001B[39m)\n",
      "File \u001B[1;32m~\\Desktop\\MiniPascal2C\\mp2c\\visitors.py:677\u001B[0m, in \u001B[0;36mvisit_statement\u001B[1;34m(node, context, func_name)\u001B[0m\n\u001B[0;32m    675\u001B[0m     tokens\u001B[38;5;241m.\u001B[39mextend(while_statement_tokens)\n\u001B[0;32m    676\u001B[0m \u001B[38;5;28;01melif\u001B[39;00m child\u001B[38;5;241m.\u001B[39mdata \u001B[38;5;241m==\u001B[39m \u001B[38;5;124m\"\u001B[39m\u001B[38;5;124massign_statement\u001B[39m\u001B[38;5;124m\"\u001B[39m:\n\u001B[1;32m--> 677\u001B[0m     assign_statement_tokens \u001B[38;5;241m=\u001B[39m \u001B[43mvisit_assign_statement\u001B[49m\u001B[43m(\u001B[49m\u001B[43mchild\u001B[49m\u001B[43m,\u001B[49m\u001B[43m \u001B[49m\u001B[43mcontext\u001B[49m\u001B[43m,\u001B[49m\u001B[43m \u001B[49m\u001B[43mfunc_name\u001B[49m\u001B[43m)\u001B[49m\n\u001B[0;32m    678\u001B[0m     tokens\u001B[38;5;241m.\u001B[39mextend(assign_statement_tokens)\n\u001B[0;32m    679\u001B[0m \u001B[38;5;28;01melif\u001B[39;00m child\u001B[38;5;241m.\u001B[39mdata \u001B[38;5;241m==\u001B[39m \u001B[38;5;124m\"\u001B[39m\u001B[38;5;124mempty\u001B[39m\u001B[38;5;124m\"\u001B[39m:\n",
      "File \u001B[1;32m~\\Desktop\\MiniPascal2C\\mp2c\\visitors.py:418\u001B[0m, in \u001B[0;36mvisit_assign_statement\u001B[1;34m(node, context, func_name)\u001B[0m\n\u001B[0;32m    416\u001B[0m     tokens\u001B[38;5;241m.\u001B[39mappend(assignop_map[child\u001B[38;5;241m.\u001B[39mvalue])\n\u001B[0;32m    417\u001B[0m \u001B[38;5;28;01melif\u001B[39;00m child\u001B[38;5;241m.\u001B[39mdata \u001B[38;5;241m==\u001B[39m \u001B[38;5;124m\"\u001B[39m\u001B[38;5;124mexpression\u001B[39m\u001B[38;5;124m\"\u001B[39m:\n\u001B[1;32m--> 418\u001B[0m     expression_tokens, expression_type \u001B[38;5;241m=\u001B[39m \u001B[43mvisit_expression\u001B[49m\u001B[43m(\u001B[49m\u001B[43mchild\u001B[49m\u001B[43m,\u001B[49m\u001B[43m \u001B[49m\u001B[43mcontext\u001B[49m\u001B[43m,\u001B[49m\u001B[43m \u001B[49m\u001B[43mfunc_name\u001B[49m\u001B[43m)\u001B[49m\n\u001B[0;32m    419\u001B[0m     tokens\u001B[38;5;241m.\u001B[39mextend(expression_tokens)\n\u001B[0;32m    420\u001B[0m \u001B[38;5;28;01melif\u001B[39;00m child\u001B[38;5;241m.\u001B[39mdata \u001B[38;5;241m==\u001B[39m \u001B[38;5;124m\"\u001B[39m\u001B[38;5;124mvariable\u001B[39m\u001B[38;5;124m\"\u001B[39m:\n",
      "File \u001B[1;32m~\\Desktop\\MiniPascal2C\\mp2c\\visitors.py:378\u001B[0m, in \u001B[0;36mvisit_expression\u001B[1;34m(node, context, func_name)\u001B[0m\n\u001B[0;32m    376\u001B[0m     isBool \u001B[38;5;241m=\u001B[39m \u001B[38;5;28;01mTrue\u001B[39;00m\n\u001B[0;32m    377\u001B[0m \u001B[38;5;28;01melif\u001B[39;00m child\u001B[38;5;241m.\u001B[39mdata \u001B[38;5;241m==\u001B[39m \u001B[38;5;124m\"\u001B[39m\u001B[38;5;124msimple_expression\u001B[39m\u001B[38;5;124m\"\u001B[39m:\n\u001B[1;32m--> 378\u001B[0m     simple_expression_token, simple_expression_type \u001B[38;5;241m=\u001B[39m \u001B[43mvisit_simple_expression\u001B[49m\u001B[43m(\u001B[49m\u001B[43mchild\u001B[49m\u001B[43m,\u001B[49m\u001B[43m \u001B[49m\u001B[43mcontext\u001B[49m\u001B[43m,\u001B[49m\u001B[43m \u001B[49m\u001B[43mfunc_name\u001B[49m\u001B[43m)\u001B[49m\n\u001B[0;32m    379\u001B[0m     tokens\u001B[38;5;241m.\u001B[39mextend(simple_expression_token)\n\u001B[0;32m    380\u001B[0m \u001B[38;5;28;01melse\u001B[39;00m:\n",
      "File \u001B[1;32m~\\Desktop\\MiniPascal2C\\mp2c\\visitors.py:356\u001B[0m, in \u001B[0;36mvisit_simple_expression\u001B[1;34m(node, context, func_name)\u001B[0m\n\u001B[0;32m    354\u001B[0m     tokens\u001B[38;5;241m.\u001B[39mappend(addop_map[child\u001B[38;5;241m.\u001B[39mvalue])\n\u001B[0;32m    355\u001B[0m \u001B[38;5;28;01melif\u001B[39;00m child\u001B[38;5;241m.\u001B[39mdata \u001B[38;5;241m==\u001B[39m \u001B[38;5;124m\"\u001B[39m\u001B[38;5;124mterm\u001B[39m\u001B[38;5;124m\"\u001B[39m:\n\u001B[1;32m--> 356\u001B[0m     term_token, term_type \u001B[38;5;241m=\u001B[39m \u001B[43mvisit_term\u001B[49m\u001B[43m(\u001B[49m\u001B[43mchild\u001B[49m\u001B[43m,\u001B[49m\u001B[43m \u001B[49m\u001B[43mcontext\u001B[49m\u001B[43m,\u001B[49m\u001B[43m \u001B[49m\u001B[43mfunc_name\u001B[49m\u001B[43m)\u001B[49m\n\u001B[0;32m    357\u001B[0m     tokens\u001B[38;5;241m.\u001B[39mextend(term_token)\n\u001B[0;32m    358\u001B[0m     simple_expression_type \u001B[38;5;241m=\u001B[39m term_type\n",
      "File \u001B[1;32m~\\Desktop\\MiniPascal2C\\mp2c\\visitors.py:338\u001B[0m, in \u001B[0;36mvisit_term\u001B[1;34m(node, context, func_name)\u001B[0m\n\u001B[0;32m    336\u001B[0m     tokens\u001B[38;5;241m.\u001B[39mappend(mulop_map[child\u001B[38;5;241m.\u001B[39mvalue])\n\u001B[0;32m    337\u001B[0m \u001B[38;5;28;01melif\u001B[39;00m child\u001B[38;5;241m.\u001B[39mdata \u001B[38;5;241m==\u001B[39m \u001B[38;5;124m\"\u001B[39m\u001B[38;5;124mfactor\u001B[39m\u001B[38;5;124m\"\u001B[39m:\n\u001B[1;32m--> 338\u001B[0m     factor_token, factor_type \u001B[38;5;241m=\u001B[39m \u001B[43mvisit_factor\u001B[49m\u001B[43m(\u001B[49m\u001B[43mchild\u001B[49m\u001B[43m,\u001B[49m\u001B[43m \u001B[49m\u001B[43mcontext\u001B[49m\u001B[43m,\u001B[49m\u001B[43m \u001B[49m\u001B[43mfunc_name\u001B[49m\u001B[43m)\u001B[49m\n\u001B[0;32m    339\u001B[0m     tokens\u001B[38;5;241m.\u001B[39mextend(factor_token)\n\u001B[0;32m    340\u001B[0m     term_type \u001B[38;5;241m=\u001B[39m factor_type\n",
      "File \u001B[1;32m~\\Desktop\\MiniPascal2C\\mp2c\\visitors.py:324\u001B[0m, in \u001B[0;36mvisit_factor\u001B[1;34m(node, context, func_name)\u001B[0m\n\u001B[0;32m    322\u001B[0m     tokens\u001B[38;5;241m.\u001B[39mextend(variable_token)\n\u001B[0;32m    323\u001B[0m \u001B[38;5;28;01melif\u001B[39;00m child\u001B[38;5;241m.\u001B[39mdata \u001B[38;5;241m==\u001B[39m \u001B[38;5;124m\"\u001B[39m\u001B[38;5;124mfunction_call\u001B[39m\u001B[38;5;124m\"\u001B[39m:\n\u001B[1;32m--> 324\u001B[0m     function_call_token, factor_type \u001B[38;5;241m=\u001B[39m \u001B[43mvisit_function_call\u001B[49m\u001B[43m(\u001B[49m\u001B[43mchild\u001B[49m\u001B[43m,\u001B[49m\u001B[43m \u001B[49m\u001B[43mcontext\u001B[49m\u001B[43m,\u001B[49m\u001B[43m \u001B[49m\u001B[43mfunc_name\u001B[49m\u001B[43m)\u001B[49m\n\u001B[0;32m    325\u001B[0m     tokens\u001B[38;5;241m.\u001B[39mextend(function_call_token)\n\u001B[0;32m    326\u001B[0m \u001B[38;5;28;01melse\u001B[39;00m:\n",
      "File \u001B[1;32m~\\Desktop\\MiniPascal2C\\mp2c\\visitors.py:278\u001B[0m, in \u001B[0;36mvisit_function_call\u001B[1;34m(node, context, func_name)\u001B[0m\n\u001B[0;32m    276\u001B[0m function \u001B[38;5;241m=\u001B[39m context\u001B[38;5;241m.\u001B[39mget_func(function_name)\n\u001B[0;32m    277\u001B[0m \u001B[38;5;28;01mif\u001B[39;00m function \u001B[38;5;129;01mis\u001B[39;00m \u001B[38;5;28;01mNone\u001B[39;00m:\n\u001B[1;32m--> 278\u001B[0m     \u001B[38;5;28;01mraise\u001B[39;00m \u001B[38;5;167;01mException\u001B[39;00m(\u001B[38;5;124m\"\u001B[39m\u001B[38;5;124mFunction not declared: \u001B[39m\u001B[38;5;132;01m{}\u001B[39;00m\u001B[38;5;124m\"\u001B[39m\u001B[38;5;241m.\u001B[39mformat(function_name))\n\u001B[0;32m    279\u001B[0m function_type \u001B[38;5;241m=\u001B[39m function\u001B[38;5;241m.\u001B[39mheader[\u001B[38;5;241m0\u001B[39m]\n\u001B[0;32m    280\u001B[0m tokens\u001B[38;5;241m.\u001B[39mextend(function_token)\n",
      "\u001B[1;31mException\u001B[0m: Function not declared: gcd"
     ]
    }
   ],
   "execution_count": 20
  },
  {
   "cell_type": "code",
   "id": "754b4830",
   "metadata": {},
   "source": [
    "result_string"
   ],
   "outputs": [],
   "execution_count": null
  },
  {
   "cell_type": "code",
   "id": "f78c440d",
   "metadata": {},
   "source": [
    "print(result_string)"
   ],
   "outputs": [],
   "execution_count": null
  },
  {
   "cell_type": "code",
   "id": "815cae3c",
   "metadata": {},
   "source": [
    "print(result_string)"
   ],
   "outputs": [],
   "execution_count": null
  },
  {
   "cell_type": "code",
   "id": "b9bd8ead",
   "metadata": {},
   "source": [
    "tokens"
   ],
   "outputs": [],
   "execution_count": null
  },
  {
   "cell_type": "code",
   "id": "475a2252",
   "metadata": {},
   "source": [
    "print(tree.pretty())"
   ],
   "outputs": [],
   "execution_count": null
  },
  {
   "cell_type": "code",
   "id": "be424809",
   "metadata": {},
   "source": [
    "hellow_world_code = r\"\"\"\n",
    "program Answer;\n",
    "{Answer to the Ultimate Question of Life, the Universe, and Everything}\n",
    "var X : integer;\n",
    "begin\n",
    "  X := 42; {Set X to 42}\n",
    "  writeln(X) {Write X to the screen}\n",
    "end.\n",
    "\"\"\"\n",
    "\n",
    "from mp2c import preprocess"
   ],
   "outputs": [],
   "execution_count": null
  },
  {
   "cell_type": "code",
   "id": "d36d2164",
   "metadata": {},
   "source": [],
   "outputs": [],
   "execution_count": null
  },
  {
   "cell_type": "code",
   "id": "7300b5fe",
   "metadata": {},
   "source": [
    "parser = Converter()\n",
    "tree, tokens, result_string = parser(hellow_world_code)"
   ],
   "outputs": [],
   "execution_count": null
  },
  {
   "cell_type": "code",
   "id": "c42a7913",
   "metadata": {},
   "source": [
    "print(result_string[1])"
   ],
   "outputs": [],
   "execution_count": null
  },
  {
   "cell_type": "code",
   "id": "ec9b9d04",
   "metadata": {},
   "source": [
    "# write tree.pretty() to file\n",
    "with open(\"tree.txt\", \"w\") as f:\n",
    "    f.write(tree.pretty())"
   ],
   "outputs": [],
   "execution_count": null
  },
  {
   "cell_type": "code",
   "id": "6cac5537",
   "metadata": {},
   "source": [
    "tokens"
   ],
   "outputs": [],
   "execution_count": null
  },
  {
   "cell_type": "code",
   "id": "bcd049ff",
   "metadata": {},
   "source": [
    "print(result_string)"
   ],
   "outputs": [],
   "execution_count": null
  },
  {
   "cell_type": "code",
   "id": "e48b100e",
   "metadata": {},
   "source": [
    "with open(\"example.pas\", \"r\") as f:\n",
    "    code = f.read()\n",
    "tree, tokens, result_string = parser(code)"
   ],
   "outputs": [],
   "execution_count": null
  },
  {
   "cell_type": "code",
   "id": "bbbe5487",
   "metadata": {},
   "source": [
    "print(result_string)"
   ],
   "outputs": [],
   "execution_count": null
  },
  {
   "cell_type": "code",
   "id": "f4480502",
   "metadata": {},
   "source": [
    "print(tree.pretty())"
   ],
   "outputs": [],
   "execution_count": null
  },
  {
   "cell_type": "code",
   "id": "6fd761e4",
   "metadata": {},
   "source": [
    "type(tree)"
   ],
   "outputs": [],
   "execution_count": null
  },
  {
   "cell_type": "code",
   "id": "5bf3b22c",
   "metadata": {},
   "source": [],
   "outputs": [],
   "execution_count": null
  }
 ],
 "metadata": {
  "kernelspec": {
   "display_name": "Python 3",
   "language": "python",
   "name": "python3"
  },
  "language_info": {
   "codemirror_mode": {
    "name": "ipython",
    "version": 3
   },
   "file_extension": ".py",
   "mimetype": "text/x-python",
   "name": "python",
   "nbconvert_exporter": "python",
   "pygments_lexer": "ipython3",
   "version": "3.11.6"
  }
 },
 "nbformat": 4,
 "nbformat_minor": 5
}
