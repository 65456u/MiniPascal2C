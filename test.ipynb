{
 "cells": [
  {
   "cell_type": "code",
   "execution_count": 1,
   "id": "initial_id",
   "metadata": {
    "ExecuteTime": {
     "end_time": "2024-04-13T09:18:13.863845Z",
     "start_time": "2024-04-13T09:18:13.802853Z"
    },
    "collapsed": true
   },
   "outputs": [],
   "source": [
    "import lark"
   ]
  },
  {
   "cell_type": "code",
   "execution_count": 19,
   "id": "0c020768",
   "metadata": {},
   "outputs": [],
   "source": [
    "type_map = {\"integer\": \"int\", \"real\": \"float\", \"boolean\": \"bool\", \"char\": \"char\"}\n",
    "relop_map = {\"=\": \"==\", \"<>\": \"!=\", \"<\": \"<\", \"<=\": \"<=\", \">\": \">\", \">=\": \">=\"}\n",
    "addop_map = {\"+\": \"+\", \"-\": \"-\", \"or\": \"||\"}\n",
    "mulop_map = {\"*\": \"*\", \"/\": \"/\", \"div\": \"/\", \"mod\": \"%\", \"and\": \"&&\"}\n",
    "assignop_map = {\":=\": \"=\"}\n",
    "uminus_map = {\"-\": \"-\"}"
   ]
  },
  {
   "cell_type": "code",
   "execution_count": 2,
   "id": "b0e4cfb9daa6d2f6",
   "metadata": {
    "ExecuteTime": {
     "end_time": "2024-04-13T09:19:50.376103Z",
     "start_time": "2024-04-13T09:19:50.371119Z"
    }
   },
   "outputs": [],
   "source": [
    "test_rule=r\"\"\"\n",
    "id                     : IDENTIFIER_TOKEN\n",
    "IDENTIFIER_TOKEN : /[a-zA-Z_][a-zA-Z0-9_]*/\n",
    "\"\"\"\n",
    "type_map={\n",
    "    \"integer\":\"int\",\n",
    "    \"real\":\"float\",\n",
    "    \"boolean\":\"bool\",\n",
    "    \"char\":\"char\"\n",
    "}\n",
    "parser=lark.Lark(test_rule, start=\"id\")\n",
    "test_str=\"hello\"\n",
    "tree=parser.parse(test_str)"
   ]
  },
  {
   "cell_type": "code",
   "execution_count": 3,
   "id": "c1b93497c70bfa12",
   "metadata": {
    "ExecuteTime": {
     "end_time": "2024-04-13T09:20:24.976969Z",
     "start_time": "2024-04-13T09:20:24.973177Z"
    }
   },
   "outputs": [],
   "source": [
    "def visit_id(self, node):\n",
    "    return [node.children[0].value]"
   ]
  },
  {
   "cell_type": "code",
   "execution_count": 4,
   "id": "3d41437c",
   "metadata": {},
   "outputs": [],
   "source": [
    "def visit_num(node):\n",
    "    tokens=[]\n",
    "    tokens.append(node.children[0].value)\n",
    "    return tokens"
   ]
  },
  {
   "cell_type": "code",
   "execution_count": 51,
   "id": "e8cec3e7",
   "metadata": {},
   "outputs": [],
   "source": [
    "test_code=\"214.4\"\n",
    "with open(\"mp2c/MiniPascal.lark\") as f:\n",
    "    grammar=f.read()\n",
    "parser=lark.Lark(grammar, start=\"num\")"
   ]
  },
  {
   "cell_type": "code",
   "execution_count": 6,
   "id": "f60ffcb9",
   "metadata": {},
   "outputs": [
    {
     "data": {
      "text/plain": [
       "['214.4']"
      ]
     },
     "execution_count": 6,
     "metadata": {},
     "output_type": "execute_result"
    }
   ],
   "source": [
    "parser.parse(test_code)\n",
    "def visit_optional_fraction(node):\n",
    "    return node.children[0].value\n",
    "\n",
    "def visit_num(node):\n",
    "    tokens=[]\n",
    "    for child in node.children:\n",
    "        # check if the child is a token\n",
    "        if isinstance(child, lark.lexer.Token):\n",
    "            tokens.append(child.value)\n",
    "        elif child.data==\"optional_fraction\":\n",
    "            optional_fraction_part=visit_optional_fraction(child)\n",
    "            tokens[-1]+=\".\"\n",
    "            tokens[-1]+=optional_fraction_part\n",
    "        \n",
    "    return tokens\n",
    "\n",
    "\n",
    "visit_num(parser.parse(test_code))"
   ]
  },
  {
   "cell_type": "code",
   "execution_count": 7,
   "id": "a6668761",
   "metadata": {},
   "outputs": [
    {
     "data": {
      "text/plain": [
       "[[[1, 2]], [4, 5]]"
      ]
     },
     "execution_count": 7,
     "metadata": {},
     "output_type": "execute_result"
    }
   ],
   "source": [
    "def visit_period(node):\n",
    "    periods=[]\n",
    "    current_period=[]\n",
    "    for children in node.children:\n",
    "        if isinstance(children, lark.lexer.Token):\n",
    "            current_period.append(int(children.value))\n",
    "        elif children.data == \"period\":\n",
    "            current_period=visit_period(children)\n",
    "            periods.append(current_period)\n",
    "            current_period=[]\n",
    "    periods.append(current_period)\n",
    "    return periods\n",
    "\n",
    "parser=lark.Lark(grammar, start=\"period\")\n",
    "test_code=\"1..2,4..5\"\n",
    "visit_period(parser.parse(test_code))"
   ]
  },
  {
   "cell_type": "code",
   "execution_count": 8,
   "id": "06f36f2e",
   "metadata": {},
   "outputs": [
    {
     "data": {
      "text/plain": [
       "'integer'"
      ]
     },
     "execution_count": 8,
     "metadata": {},
     "output_type": "execute_result"
    }
   ],
   "source": [
    "def visit_basic_type(node):\n",
    "    return node.children[0].value\n",
    "parser=lark.Lark(grammar, start=\"basic_type\")\n",
    "test_code=\"integer\"\n",
    "visit_basic_type(parser.parse(test_code))"
   ]
  },
  {
   "cell_type": "code",
   "execution_count": 26,
   "id": "6fde851a",
   "metadata": {},
   "outputs": [
    {
     "data": {
      "text/plain": [
       "['a', 'b', 'c']"
      ]
     },
     "execution_count": 26,
     "metadata": {},
     "output_type": "execute_result"
    }
   ],
   "source": [
    "def visit_id(node):\n",
    "    return node.children[0].value\n",
    "def visit_idlist(node):\n",
    "    ids = []\n",
    "    for child in node.children:\n",
    "        if child.data == \"id\":\n",
    "            ids.append(visit_id(child))\n",
    "        elif child.data == \"idlist\":\n",
    "            ids.extend(visit_idlist(child))\n",
    "    return ids\n",
    "\n",
    "parser=lark.Lark(grammar, start=\"idlist\")\n",
    "test_code=\"a,b,c\"\n",
    "visit_idlist(parser.parse(test_code))"
   ]
  },
  {
   "cell_type": "code",
   "execution_count": 10,
   "id": "d06aaae5",
   "metadata": {},
   "outputs": [
    {
     "data": {
      "text/plain": [
       "{'basic_type': 'int', 'is_array': True, 'period': [[1, 2]]}"
      ]
     },
     "execution_count": 10,
     "metadata": {},
     "output_type": "execute_result"
    }
   ],
   "source": [
    "def visit_basic_type(node):\n",
    "    return type_map[node.children[0].value]\n",
    "\n",
    "\n",
    "def visit_type(node):\n",
    "    type = {\"basic_type\": None, \"is_array\": False, \"period\": None}\n",
    "    for child in node.children:\n",
    "        if child.data == \"basic_type\":\n",
    "            type[\"basic_type\"] = visit_basic_type(child)\n",
    "        elif child.data == \"period\":\n",
    "            type[\"period\"] = visit_period(child)\n",
    "            type[\"is_array\"] = True\n",
    "    return type\n",
    "\n",
    "def visit_period(node):\n",
    "    periods = []\n",
    "    current_period = []\n",
    "    for children in node.children:\n",
    "        if isinstance(children, lark.lexer.Token):\n",
    "            current_period.append(int(children.value))\n",
    "        elif children.data == \"period\":\n",
    "            current_period = visit_period(children)\n",
    "            periods.append(current_period)\n",
    "            current_period = []\n",
    "    periods.append(current_period)\n",
    "    return periods\n",
    "parser=lark.Lark(grammar, start=\"type\")\n",
    "test_code=\"array [1..2] of integer\"\n",
    "visit_type(parser.parse(test_code))"
   ]
  },
  {
   "cell_type": "code",
   "execution_count": 11,
   "id": "57557ee7",
   "metadata": {},
   "outputs": [
    {
     "data": {
      "text/plain": [
       "'int   a   ,   b   ;'"
      ]
     },
     "execution_count": 11,
     "metadata": {},
     "output_type": "execute_result"
    }
   ],
   "source": [
    "def visit_value_parameter(node):\n",
    "    ids = []\n",
    "    type = None\n",
    "    for child in node.children:\n",
    "        if child.data == \"idlist\":\n",
    "            ids = visit_idlist(child)\n",
    "        elif child.data == \"basic_type\":\n",
    "            type = visit_basic_type(child)\n",
    "    return {\"ids\": ids, \"type\": type}\n",
    "\n",
    "def visit_var_parameter(node):\n",
    "    tokens=[]\n",
    "    value_parameter=visit_value_parameter(node.children[0])\n",
    "    tokens.append(value_parameter[\"type\"])\n",
    "    first = True\n",
    "    for id in value_parameter[\"ids\"]:\n",
    "        if first:\n",
    "            tokens.append(id)\n",
    "            first = False\n",
    "        else:\n",
    "            tokens.append(\",\")\n",
    "            tokens.append(id)\n",
    "    tokens.append(\";\")\n",
    "    return tokens\n",
    "\n",
    "parser=lark.Lark(grammar, start=\"var_parameter\")\n",
    "test_code=\"var a,b:integer\"\n",
    "tokens_list=visit_var_parameter(parser.parse(test_code))\n",
    "\"   \".join(tokens_list)"
   ]
  },
  {
   "cell_type": "code",
   "execution_count": 12,
   "id": "29945fc9c2639046",
   "metadata": {
    "ExecuteTime": {
     "end_time": "2024-04-13T09:20:38.549993Z",
     "start_time": "2024-04-13T09:20:38.546946Z"
    }
   },
   "outputs": [
    {
     "data": {
      "text/plain": [
       "['int', 'a', ',', 'int', 'b', ',', 'float', 'c']"
      ]
     },
     "execution_count": 12,
     "metadata": {},
     "output_type": "execute_result"
    }
   ],
   "source": [
    "type_map={\n",
    "    \"integer\":\"int\",\n",
    "    \"real\":\"float\",\n",
    "    \"boolean\":\"bool\",\n",
    "    \"char\":\"char\"\n",
    "}\n",
    "def visit_parameter(node):\n",
    "    tokens=[]\n",
    "    for child in node.children:\n",
    "        if child.data == \"var_parameter\":\n",
    "            return visit_var_parameter(child)\n",
    "        elif child.data==\"value_parameter\":\n",
    "            value_parameter=visit_value_parameter(child)\n",
    "            tokens.append(value_parameter[\"type\"])\n",
    "            first = True\n",
    "            for id in value_parameter[\"ids\"]:\n",
    "                if first:\n",
    "                    tokens.append(id)\n",
    "                    first = False\n",
    "                else:\n",
    "                    tokens.append(\",\")\n",
    "                    tokens.append(id)\n",
    "    return tokens\n",
    "def visit_value_parameter(node):\n",
    "    ids = []\n",
    "    type = None\n",
    "    for child in node.children:\n",
    "        if child.data == \"idlist\":\n",
    "            ids = visit_idlist(child)\n",
    "        elif child.data == \"basic_type\":\n",
    "            type = visit_basic_type(child)\n",
    "    return {\"ids\": ids, \"type\": type}\n",
    "\n",
    "def visit_var_parameter(node):\n",
    "    tokens=[]\n",
    "    value_parameter=visit_value_parameter(node.children[0])\n",
    "    first = True\n",
    "    for id in value_parameter[\"ids\"]:\n",
    "        if first:\n",
    "            first = False\n",
    "        else:\n",
    "            tokens.append(\",\")\n",
    "        tokens.append(value_parameter[\"type\"])\n",
    "        tokens.append(id)\n",
    "    return tokens\n",
    "\n",
    "def visit_parameter_list(node):\n",
    "    tokens=[]\n",
    "    first =True\n",
    "    for child in node.children:\n",
    "        assert child.data == \"parameter\"\n",
    "        if first:\n",
    "            first = False\n",
    "        else:\n",
    "            tokens.append(\",\")\n",
    "        tokens.extend(visit_parameter(child))\n",
    "    return tokens\n",
    "\n",
    "parser=lark.Lark(grammar, start=\"parameter_list\")\n",
    "test_code=\"var a,b:integer; c:real\"\n",
    "visit_parameter_list(parser.parse(test_code))"
   ]
  },
  {
   "cell_type": "code",
   "execution_count": 13,
   "id": "700aa5cec58380c1",
   "metadata": {
    "ExecuteTime": {
     "end_time": "2024-04-13T09:24:33.633483Z",
     "start_time": "2024-04-13T09:24:33.628972Z"
    }
   },
   "outputs": [
    {
     "name": "stdout",
     "output_type": "stream",
     "text": [
      "(\n",
      "int\n",
      "a\n",
      ",\n",
      "int\n",
      "b\n",
      ",\n",
      "float\n",
      "c\n",
      ")\n"
     ]
    }
   ],
   "source": [
    "def visit_formal_parameter(node):\n",
    "    tokens = []\n",
    "    tokens.append(\"(\")\n",
    "    parameter_list = visit_parameter_list(node.children[0])\n",
    "    tokens.extend(parameter_list)\n",
    "    tokens.append(\")\")\n",
    "    return tokens\n",
    "parser=lark.Lark(grammar, start=\"formal_parameter\")\n",
    "test_code=\"(var a,b:integer; c:real)\"\n",
    "tokens=visit_formal_parameter(parser.parse(test_code))\n",
    "for token in tokens:\n",
    "    print(token)"
   ]
  },
  {
   "cell_type": "code",
   "execution_count": 18,
   "id": "3bd58f2e",
   "metadata": {},
   "outputs": [
    {
     "name": "stdout",
     "output_type": "stream",
     "text": [
      "int\n",
      "f\n",
      "(\n",
      "int\n",
      "a\n",
      ",\n",
      "int\n",
      "b\n",
      ",\n",
      "float\n",
      "c\n",
      ")\n"
     ]
    }
   ],
   "source": [
    "def visit_subprogram_head(node):\n",
    "    tokens = []\n",
    "    basic_type = None\n",
    "    id = None\n",
    "    formal_parameter = None\n",
    "    for child in node.children:\n",
    "        if child.data == \"basic_type\":\n",
    "            basic_type = visit_basic_type(child)\n",
    "        elif child.data == \"id\":\n",
    "            id = visit_id(child)\n",
    "        elif child.data == \"formal_parameter\":\n",
    "            formal_parameter = visit_formal_parameter(child)\n",
    "    if basic_type:\n",
    "        tokens.append(basic_type)\n",
    "    else:\n",
    "        tokens.append(\"void\")\n",
    "    tokens.append(id)\n",
    "    tokens.extend(formal_parameter)\n",
    "    return tokens\n",
    "\n",
    "parser=lark.Lark(grammar, start=\"subprogram_head\")\n",
    "test_code=\"function f(var a,b:integer; c:real):integer\"\n",
    "tokens=visit_subprogram_head(parser.parse(test_code))\n",
    "for token in tokens:\n",
    "    print(token)\n",
    "    \n"
   ]
  },
  {
   "cell_type": "code",
   "execution_count": 53,
   "id": "ddf34225",
   "metadata": {},
   "outputs": [
    {
     "name": "stdout",
     "output_type": "stream",
     "text": [
      "1\n",
      "<\n",
      "2\n",
      ",\n",
      "3\n",
      ">\n",
      "4\n"
     ]
    }
   ],
   "source": [
    "def visit_id_varpart(node):\n",
    "    tokens = []\n",
    "    for child in node.children:\n",
    "        if child.data == \"empty\":\n",
    "            return tokens\n",
    "        elif child.data == \"expression_list\":\n",
    "            tokens.append(\"[\")\n",
    "            expression_list = visit_expression_list(child)\n",
    "            tokens.extend(expression_list)\n",
    "            tokens.append(\"]\")\n",
    "    return tokens\n",
    "\n",
    "def visit_variable(node):\n",
    "    tokens = []\n",
    "    for child in node.children:\n",
    "        if child.data == \"id\":\n",
    "            tokens.append(visit_id(child))\n",
    "        elif child.data == \"expression\":\n",
    "            tokens.append(\"[\")\n",
    "            expression_tokens = visit_expression(child)\n",
    "            tokens.extend(expression_tokens)\n",
    "            tokens.append(\"]\")\n",
    "    return tokens\n",
    "\n",
    "def visit_variable_list(node):\n",
    "    tokens=[]\n",
    "    first=True\n",
    "    for child in node.children:\n",
    "        if first:\n",
    "            first=False\n",
    "        else:\n",
    "            tokens.append(\",\")\n",
    "        tokens.extend(visit_variable(child))\n",
    "    return tokens\n",
    "\n",
    "\n",
    "def visit_func_id(node):\n",
    "    tokens = []\n",
    "    for child in node.children:\n",
    "        id=visit_id(child)\n",
    "    return tokens\n",
    "\n",
    "\n",
    "def visit_factor(node):\n",
    "    tokens = []\n",
    "    for child in node.children:\n",
    "        if isinstance(child, lark.lexer.Token):\n",
    "            token_type = child.type\n",
    "            token_value = child.value\n",
    "            if token_type == \"NOT\":\n",
    "                tokens.append(\"!\")\n",
    "            elif token_type == \"UMINUS\":\n",
    "                tokens.append(uminus_map[token_value])\n",
    "        elif child.data == \"num\":\n",
    "            num_token = visit_num(child)\n",
    "            tokens.extend(num_token)\n",
    "        elif child.data == \"id\":\n",
    "            id_token = visit_id(child)\n",
    "            tokens.extend(id_token)\n",
    "        elif child.data == \"expression\":\n",
    "            tokens.append(\"(\")\n",
    "            expression_token = visit_expression(child)\n",
    "            tokens.extend(expression_token)\n",
    "            tokens.append(\")\")\n",
    "        elif child.data == \"factor\":\n",
    "            factor_token = visit_factor(child)\n",
    "            tokens.extend(factor_token)\n",
    "        elif child.data == \"func_id\":\n",
    "            func_id_token = visit_func_id(child)\n",
    "            tokens.extend(func_id_token)\n",
    "        elif child.data == \"expression_list\":\n",
    "            tokens.append(\"(\")\n",
    "            expression_list_token = visit_expression_list(child)\n",
    "            tokens.extend(expression_list_token)\n",
    "            tokens.append(\")\")\n",
    "        elif child.data == \"variable\":\n",
    "            variable_token = visit_variable(child)\n",
    "            tokens.extend(variable_token)\n",
    "        else: \n",
    "            raise Exception(\"Unknown factor child data: {}\".format(child.data))\n",
    "    return tokens\n",
    "\n",
    "\n",
    "def visit_term(node):\n",
    "    tokens = []\n",
    "    for child in node.children:\n",
    "        if isinstance(child, lark.lexer.Token):\n",
    "            tokens.append(mulop_map[child.value])\n",
    "        elif child.data == \"factor\":\n",
    "            factor_token = visit_factor(child)\n",
    "            tokens.extend(factor_token)\n",
    "        elif child.data == \"term\":\n",
    "            term_token = visit_term(child)\n",
    "            tokens.extend(term_token)\n",
    "    return tokens\n",
    "\n",
    "\n",
    "def visit_simple_expression(node):\n",
    "    tokens = []\n",
    "    for child in node.children:\n",
    "        if isinstance(child, lark.lexer.Token):\n",
    "            tokens.append(addop_map[child.value])\n",
    "        elif child.data == \"term\":\n",
    "            term_token = visit_term(child)\n",
    "            tokens.extend(term_token)\n",
    "        elif child.data == \"simple_expression\":\n",
    "            simple_expression_token = visit_simple_expression(child)\n",
    "            tokens.extend(simple_expression_token)\n",
    "    return tokens\n",
    "\n",
    "\n",
    "def visit_expression(node):\n",
    "    tokens = []\n",
    "    for child in node.children:\n",
    "        if isinstance(child, lark.lexer.Token):\n",
    "            tokens.append(relop_map[child.value])\n",
    "        elif child.data == \"simple_expression\":\n",
    "            simple_expression_token = visit_simple_expression(child)\n",
    "            tokens.extend(simple_expression_token)\n",
    "        elif child.data == \"expression\":\n",
    "            expression_token = visit_expression(child)\n",
    "            tokens.extend(expression_token)\n",
    "        else:\n",
    "            raise Exception(\"Unknown expression child data: {}\".format(child.data))\n",
    "    return tokens\n",
    "\n",
    "\n",
    "def visit_expression_list(node):\n",
    "    tokens = []\n",
    "    first = True\n",
    "    for child in node.children:\n",
    "        if first:\n",
    "            first = False\n",
    "        else:\n",
    "            tokens.append(\",\")\n",
    "        expression_tokens=visit_expression(child)\n",
    "        tokens.extend(expression_tokens)\n",
    "    return tokens\n",
    "\n",
    "parser=lark.Lark(grammar, start=\"expression_list\")\n",
    "test_code=\"1<2,3>4\"\n",
    "tokens=visit_expression_list(parser.parse(test_code))\n",
    "for token in tokens:\n",
    "    print(token)"
   ]
  },
  {
   "cell_type": "code",
   "execution_count": null,
   "id": "a4257c72",
   "metadata": {},
   "outputs": [],
   "source": []
  }
 ],
 "metadata": {
  "kernelspec": {
   "display_name": "Python 3",
   "language": "python",
   "name": "python3"
  },
  "language_info": {
   "codemirror_mode": {
    "name": "ipython",
    "version": 3
   },
   "file_extension": ".py",
   "mimetype": "text/x-python",
   "name": "python",
   "nbconvert_exporter": "python",
   "pygments_lexer": "ipython3",
   "version": "3.11.6"
  }
 },
 "nbformat": 4,
 "nbformat_minor": 5
}
