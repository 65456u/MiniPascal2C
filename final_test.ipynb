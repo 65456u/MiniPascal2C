{
 "cells": [
  {
   "metadata": {
    "ExecuteTime": {
     "end_time": "2024-05-11T00:53:47.191937Z",
     "start_time": "2024-05-11T00:53:47.187116Z"
    }
   },
   "cell_type": "code",
   "source": [
    "def ensure_strings(func):\n",
    "    def wrapper(node: lark.tree.Tree, context: Context):\n",
    "        tokens = func(node, context)\n",
    "        for token in tokens:\n",
    "            if not isinstance(token, str):\n",
    "                raise TypeError(\"Expected token to be a string, but got {}\".format(type(token)))\n",
    "        return tokens\n",
    "    return wrapper\n",
    "\n",
    "@ensure_strings\n",
    "def test(node, context):\n",
    "    return [1,2,3,4,5]"
   ],
   "id": "ef3b5e8f4ac971b2",
   "execution_count": 3,
   "outputs": []
  },
  {
   "metadata": {
    "ExecuteTime": {
     "end_time": "2024-05-11T00:53:47.790182Z",
     "start_time": "2024-05-11T00:53:47.767378Z"
    }
   },
   "cell_type": "code",
   "source": "test(None, None)",
   "id": "831f6ca1a00daaf3",
   "execution_count": 4,
   "outputs": []
  },
  {
   "metadata": {
    "ExecuteTime": {
     "end_time": "2024-05-14T09:55:00.944612Z",
     "start_time": "2024-05-14T09:55:00.856572Z"
    }
   },
   "cell_type": "code",
   "source": "from mp2c import compile_code",
   "id": "41894a97ec63bb89",
   "outputs": [],
   "execution_count": 1
  },
  {
   "metadata": {
    "ExecuteTime": {
     "end_time": "2024-05-14T09:55:01.802099Z",
     "start_time": "2024-05-14T09:55:01.571042Z"
    }
   },
   "cell_type": "code",
   "source": "compile_code(\"int main() { return 0; }\")",
   "id": "ba3ec2c2886b276f",
   "outputs": [
    {
     "data": {
      "text/plain": [
       "''"
      ]
     },
     "execution_count": 2,
     "metadata": {},
     "output_type": "execute_result"
    }
   ],
   "execution_count": 2
  },
  {
   "metadata": {},
   "cell_type": "code",
   "outputs": [],
   "execution_count": null,
   "source": "",
   "id": "a78f4c8c28f056c2"
  }
 ],
 "metadata": {
  "kernelspec": {
   "display_name": "Python 3",
   "language": "python",
   "name": "python3"
  },
  "language_info": {
   "codemirror_mode": {
    "name": "ipython",
    "version": 2
   },
   "file_extension": ".py",
   "mimetype": "text/x-python",
   "name": "python",
   "nbconvert_exporter": "python",
   "pygments_lexer": "ipython2",
   "version": "2.7.6"
  }
 },
 "nbformat": 4,
 "nbformat_minor": 5
}
