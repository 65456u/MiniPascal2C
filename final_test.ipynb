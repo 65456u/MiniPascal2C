{
 "cells": [
  {
   "metadata": {
    "ExecuteTime": {
     "end_time": "2024-05-11T00:53:47.191937Z",
     "start_time": "2024-05-11T00:53:47.187116Z"
    }
   },
   "cell_type": "code",
   "source": [
    "def ensure_strings(func):\n",
    "    def wrapper(node: lark.tree.Tree, context: Context):\n",
    "        tokens = func(node, context)\n",
    "        for token in tokens:\n",
    "            if not isinstance(token, str):\n",
    "                raise TypeError(\"Expected token to be a string, but got {}\".format(type(token)))\n",
    "        return tokens\n",
    "    return wrapper\n",
    "\n",
    "@ensure_strings\n",
    "def test(node, context):\n",
    "    return [1,2,3,4,5]"
   ],
   "id": "ef3b5e8f4ac971b2",
   "outputs": [],
   "execution_count": 3
  },
  {
   "metadata": {
    "ExecuteTime": {
     "end_time": "2024-05-11T00:53:47.790182Z",
     "start_time": "2024-05-11T00:53:47.767378Z"
    }
   },
   "cell_type": "code",
   "source": "test(None, None)",
   "id": "831f6ca1a00daaf3",
   "outputs": [
    {
     "ename": "TypeError",
     "evalue": "Expected token to be a string, but got <class 'int'>",
     "output_type": "error",
     "traceback": [
      "\u001B[0;31m---------------------------------------------------------------------------\u001B[0m",
      "\u001B[0;31mTypeError\u001B[0m                                 Traceback (most recent call last)",
      "Cell \u001B[0;32mIn[4], line 1\u001B[0m\n\u001B[0;32m----> 1\u001B[0m \u001B[43mtest\u001B[49m\u001B[43m(\u001B[49m\u001B[38;5;28;43;01mNone\u001B[39;49;00m\u001B[43m,\u001B[49m\u001B[43m \u001B[49m\u001B[38;5;28;43;01mNone\u001B[39;49;00m\u001B[43m)\u001B[49m\n",
      "Cell \u001B[0;32mIn[3], line 6\u001B[0m, in \u001B[0;36mensure_strings.<locals>.wrapper\u001B[0;34m(node, context)\u001B[0m\n\u001B[1;32m      4\u001B[0m \u001B[38;5;28;01mfor\u001B[39;00m token \u001B[38;5;129;01min\u001B[39;00m tokens:\n\u001B[1;32m      5\u001B[0m     \u001B[38;5;28;01mif\u001B[39;00m \u001B[38;5;129;01mnot\u001B[39;00m \u001B[38;5;28misinstance\u001B[39m(token, \u001B[38;5;28mstr\u001B[39m):\n\u001B[0;32m----> 6\u001B[0m         \u001B[38;5;28;01mraise\u001B[39;00m \u001B[38;5;167;01mTypeError\u001B[39;00m(\u001B[38;5;124m\"\u001B[39m\u001B[38;5;124mExpected token to be a string, but got \u001B[39m\u001B[38;5;132;01m{}\u001B[39;00m\u001B[38;5;124m\"\u001B[39m\u001B[38;5;241m.\u001B[39mformat(\u001B[38;5;28mtype\u001B[39m(token)))\n\u001B[1;32m      7\u001B[0m \u001B[38;5;28;01mreturn\u001B[39;00m tokens\n",
      "\u001B[0;31mTypeError\u001B[0m: Expected token to be a string, but got <class 'int'>"
     ]
    }
   ],
   "execution_count": 4
  },
  {
   "metadata": {},
   "cell_type": "code",
   "outputs": [],
   "execution_count": null,
   "source": "",
   "id": "41894a97ec63bb89"
  }
 ],
 "metadata": {
  "kernelspec": {
   "display_name": "Python 3",
   "language": "python",
   "name": "python3"
  },
  "language_info": {
   "codemirror_mode": {
    "name": "ipython",
    "version": 2
   },
   "file_extension": ".py",
   "mimetype": "text/x-python",
   "name": "python",
   "nbconvert_exporter": "python",
   "pygments_lexer": "ipython2",
   "version": "2.7.6"
  }
 },
 "nbformat": 4,
 "nbformat_minor": 5
}
