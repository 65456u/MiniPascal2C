{
 "cells": [
  {
   "metadata": {
    "ExecuteTime": {
     "end_time": "2024-05-11T00:53:47.191937Z",
     "start_time": "2024-05-11T00:53:47.187116Z"
    }
   },
   "cell_type": "code",
   "source": [
    "def ensure_strings(func):\n",
    "    def wrapper(node: lark.tree.Tree, context: Context):\n",
    "        tokens = func(node, context)\n",
    "        for token in tokens:\n",
    "            if not isinstance(token, str):\n",
    "                raise TypeError(\"Expected token to be a string, but got {}\".format(type(token)))\n",
    "        return tokens\n",
    "\n",
    "    return wrapper\n",
    "\n",
    "\n",
    "@ensure_strings\n",
    "def test(node, context):\n",
    "    return [1, 2, 3, 4, 5]"
   ],
   "id": "ef3b5e8f4ac971b2",
   "execution_count": 3,
   "outputs": []
  },
  {
   "metadata": {
    "ExecuteTime": {
     "end_time": "2024-05-11T00:53:47.790182Z",
     "start_time": "2024-05-11T00:53:47.767378Z"
    }
   },
   "cell_type": "code",
   "source": "test(None, None)",
   "id": "831f6ca1a00daaf3",
   "execution_count": 4,
   "outputs": []
  },
  {
   "metadata": {
    "ExecuteTime": {
     "end_time": "2024-05-14T09:55:00.944612Z",
     "start_time": "2024-05-14T09:55:00.856572Z"
    }
   },
   "cell_type": "code",
   "source": "from mp2c import compile_code",
   "id": "41894a97ec63bb89",
   "execution_count": 1,
   "outputs": []
  },
  {
   "metadata": {
    "ExecuteTime": {
     "end_time": "2024-05-14T09:55:01.802099Z",
     "start_time": "2024-05-14T09:55:01.571042Z"
    }
   },
   "cell_type": "code",
   "source": "compile_code(\"int main() { return 0; }\")",
   "id": "ba3ec2c2886b276f",
   "execution_count": 2,
   "outputs": []
  },
  {
   "metadata": {
    "ExecuteTime": {
     "end_time": "2024-05-15T08:02:04.536783Z",
     "start_time": "2024-05-15T08:02:04.532343Z"
    }
   },
   "cell_type": "code",
   "source": [
    "def ensure_list_of_strings(func):\n",
    "    def wrapper(*args, **kwargs):\n",
    "        result = func(*args, **kwargs)\n",
    "        if isinstance(result, tuple):\n",
    "            if not isinstance(result[0], list) or not all(isinstance(item, str) for item in result[0]):\n",
    "                raise ValueError(\"The first element in the returned tuple must be a list of strings.\")\n",
    "        elif not isinstance(result, list) or not all(isinstance(item, str) for item in result):\n",
    "            raise ValueError(\"The first returned value must be a list of strings.\")\n",
    "        return result\n",
    "\n",
    "    return wrapper"
   ],
   "id": "a78f4c8c28f056c2",
   "execution_count": 6,
   "outputs": []
  },
  {
   "metadata": {
    "ExecuteTime": {
     "end_time": "2024-05-15T08:02:16.338976Z",
     "start_time": "2024-05-15T08:02:16.335102Z"
    }
   },
   "cell_type": "code",
   "source": [
    "@ensure_list_of_strings\n",
    "def example_function():\n",
    "    return [\"\", \"1\"], \"fuck\"\n",
    "\n",
    "\n",
    "result = example_function()"
   ],
   "id": "fb2446f929c03d1b",
   "execution_count": 9,
   "outputs": []
  },
  {
   "metadata": {},
   "cell_type": "code",
   "execution_count": null,
   "source": "",
   "id": "60c8c2dd2cb2a9fe",
   "outputs": []
  }
 ],
 "metadata": {
  "kernelspec": {
   "display_name": "Python 3",
   "language": "python",
   "name": "python3"
  },
  "language_info": {
   "codemirror_mode": {
    "name": "ipython",
    "version": 2
   },
   "file_extension": ".py",
   "mimetype": "text/x-python",
   "name": "python",
   "nbconvert_exporter": "python",
   "pygments_lexer": "ipython2",
   "version": "2.7.6"
  }
 },
 "nbformat": 4,
 "nbformat_minor": 5
}
